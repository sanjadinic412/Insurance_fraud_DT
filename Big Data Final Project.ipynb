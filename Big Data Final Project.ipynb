{
 "cells": [
  {
   "cell_type": "code",
   "execution_count": 1,
   "metadata": {},
   "outputs": [],
   "source": [
    "import pandas as pd  \n",
    "import numpy as np\n",
    "import math\n",
    "import matplotlib.pyplot as plt  \n",
    "import seaborn as sns \n",
    "from sklearn.model_selection import train_test_split \n",
    "from sklearn import metrics\n",
    "from sklearn import preprocessing\n",
    "%matplotlib inline\n",
    "\n",
    "import warnings\n",
    "warnings.filterwarnings('ignore')"
   ]
  },
  {
   "cell_type": "code",
   "execution_count": 2,
   "metadata": {},
   "outputs": [],
   "source": [
    "\n",
    "from sklearn.pipeline import make_pipeline\n",
    "from sklearn.ensemble import RandomForestClassifier\n",
    "from sklearn.feature_selection import SelectKBest\n",
    "from sklearn.model_selection import StratifiedKFold\n",
    "from sklearn.model_selection import learning_curve,GridSearchCV\n",
    "from sklearn.ensemble.gradient_boosting import GradientBoostingClassifier\n",
    "from sklearn.model_selection import cross_val_score\n",
    "from sklearn.linear_model import LogisticRegression\n",
    "from sklearn.linear_model import LinearRegression\n",
    "import statsmodels.formula.api as sm\n",
    "from sklearn.model_selection import train_test_split\n",
    "from sklearn.svm import SVC, LinearSVC\n",
    "from sklearn.neighbors import KNeighborsClassifier\n",
    "from sklearn.tree import DecisionTreeClassifier\n",
    "from sklearn.naive_bayes import GaussianNB\n",
    "from sklearn.linear_model import Perceptron\n",
    "from sklearn.linear_model import SGDClassifier\n",
    "from sklearn.feature_selection import SelectFromModel\n",
    "from sklearn.model_selection import KFold\n",
    "from sklearn.model_selection import cross_val_score\n",
    "from sklearn.metrics import confusion_matrix\n",
    "from sklearn.discriminant_analysis import LinearDiscriminantAnalysis\n",
    "from sklearn.discriminant_analysis import QuadraticDiscriminantAnalysis\n",
    "#import xgboost as xgb\n",
    "from sklearn.metrics import roc_curve, auc\n",
    "#import scikitplot as skplt #conda install -c conda-forge scikit-plot\n",
    "from sklearn.metrics import accuracy_score \n",
    "from sklearn.metrics import mean_absolute_error, accuracy_score"
   ]
  },
  {
   "cell_type": "code",
   "execution_count": 3,
   "metadata": {
    "scrolled": false
   },
   "outputs": [
    {
     "data": {
      "text/html": [
       "<div>\n",
       "<style scoped>\n",
       "    .dataframe tbody tr th:only-of-type {\n",
       "        vertical-align: middle;\n",
       "    }\n",
       "\n",
       "    .dataframe tbody tr th {\n",
       "        vertical-align: top;\n",
       "    }\n",
       "\n",
       "    .dataframe thead th {\n",
       "        text-align: right;\n",
       "    }\n",
       "</style>\n",
       "<table border=\"1\" class=\"dataframe\">\n",
       "  <thead>\n",
       "    <tr style=\"text-align: right;\">\n",
       "      <th></th>\n",
       "      <th>Month</th>\n",
       "      <th>WeekOfMonth</th>\n",
       "      <th>DayOfWeek</th>\n",
       "      <th>Make</th>\n",
       "      <th>AccidentArea</th>\n",
       "      <th>DayOfWeekClaimed</th>\n",
       "      <th>MonthClaimed</th>\n",
       "      <th>WeekOfMonthClaimed</th>\n",
       "      <th>Sex</th>\n",
       "      <th>MaritalStatus</th>\n",
       "      <th>...</th>\n",
       "      <th>AgeOfVehicle</th>\n",
       "      <th>AgeOfPolicyHolder</th>\n",
       "      <th>PoliceReportFiled</th>\n",
       "      <th>WitnessPresent</th>\n",
       "      <th>AgentType</th>\n",
       "      <th>NumberOfSuppliments</th>\n",
       "      <th>AddressChange_Claim</th>\n",
       "      <th>NumberOfCars</th>\n",
       "      <th>Year</th>\n",
       "      <th>BasePolicy</th>\n",
       "    </tr>\n",
       "  </thead>\n",
       "  <tbody>\n",
       "    <tr>\n",
       "      <th>0</th>\n",
       "      <td>Dec</td>\n",
       "      <td>5</td>\n",
       "      <td>Wednesday</td>\n",
       "      <td>Honda</td>\n",
       "      <td>Urban</td>\n",
       "      <td>Tuesday</td>\n",
       "      <td>Jan</td>\n",
       "      <td>1</td>\n",
       "      <td>Female</td>\n",
       "      <td>Single</td>\n",
       "      <td>...</td>\n",
       "      <td>3 years</td>\n",
       "      <td>26 to 30</td>\n",
       "      <td>No</td>\n",
       "      <td>No</td>\n",
       "      <td>External</td>\n",
       "      <td>none</td>\n",
       "      <td>1 year</td>\n",
       "      <td>3 to 4</td>\n",
       "      <td>1994</td>\n",
       "      <td>Liability</td>\n",
       "    </tr>\n",
       "    <tr>\n",
       "      <th>1</th>\n",
       "      <td>Jan</td>\n",
       "      <td>3</td>\n",
       "      <td>Wednesday</td>\n",
       "      <td>Honda</td>\n",
       "      <td>Urban</td>\n",
       "      <td>Monday</td>\n",
       "      <td>Jan</td>\n",
       "      <td>4</td>\n",
       "      <td>Male</td>\n",
       "      <td>Single</td>\n",
       "      <td>...</td>\n",
       "      <td>6 years</td>\n",
       "      <td>31 to 35</td>\n",
       "      <td>Yes</td>\n",
       "      <td>No</td>\n",
       "      <td>External</td>\n",
       "      <td>none</td>\n",
       "      <td>no change</td>\n",
       "      <td>1 vehicle</td>\n",
       "      <td>1994</td>\n",
       "      <td>Collision</td>\n",
       "    </tr>\n",
       "    <tr>\n",
       "      <th>2</th>\n",
       "      <td>Oct</td>\n",
       "      <td>5</td>\n",
       "      <td>Friday</td>\n",
       "      <td>Honda</td>\n",
       "      <td>Urban</td>\n",
       "      <td>Thursday</td>\n",
       "      <td>Nov</td>\n",
       "      <td>2</td>\n",
       "      <td>Male</td>\n",
       "      <td>Married</td>\n",
       "      <td>...</td>\n",
       "      <td>7 years</td>\n",
       "      <td>41 to 50</td>\n",
       "      <td>No</td>\n",
       "      <td>No</td>\n",
       "      <td>External</td>\n",
       "      <td>none</td>\n",
       "      <td>no change</td>\n",
       "      <td>1 vehicle</td>\n",
       "      <td>1994</td>\n",
       "      <td>Collision</td>\n",
       "    </tr>\n",
       "    <tr>\n",
       "      <th>3</th>\n",
       "      <td>Jun</td>\n",
       "      <td>2</td>\n",
       "      <td>Saturday</td>\n",
       "      <td>Toyota</td>\n",
       "      <td>Rural</td>\n",
       "      <td>Friday</td>\n",
       "      <td>Jul</td>\n",
       "      <td>1</td>\n",
       "      <td>Male</td>\n",
       "      <td>Married</td>\n",
       "      <td>...</td>\n",
       "      <td>more than 7</td>\n",
       "      <td>51 to 65</td>\n",
       "      <td>Yes</td>\n",
       "      <td>No</td>\n",
       "      <td>External</td>\n",
       "      <td>more than 5</td>\n",
       "      <td>no change</td>\n",
       "      <td>1 vehicle</td>\n",
       "      <td>1994</td>\n",
       "      <td>Liability</td>\n",
       "    </tr>\n",
       "    <tr>\n",
       "      <th>4</th>\n",
       "      <td>Jan</td>\n",
       "      <td>5</td>\n",
       "      <td>Monday</td>\n",
       "      <td>Honda</td>\n",
       "      <td>Urban</td>\n",
       "      <td>Tuesday</td>\n",
       "      <td>Feb</td>\n",
       "      <td>2</td>\n",
       "      <td>Female</td>\n",
       "      <td>Single</td>\n",
       "      <td>...</td>\n",
       "      <td>5 years</td>\n",
       "      <td>31 to 35</td>\n",
       "      <td>No</td>\n",
       "      <td>No</td>\n",
       "      <td>External</td>\n",
       "      <td>none</td>\n",
       "      <td>no change</td>\n",
       "      <td>1 vehicle</td>\n",
       "      <td>1994</td>\n",
       "      <td>Collision</td>\n",
       "    </tr>\n",
       "  </tbody>\n",
       "</table>\n",
       "<p>5 rows × 33 columns</p>\n",
       "</div>"
      ],
      "text/plain": [
       "  Month  WeekOfMonth  DayOfWeek    Make AccidentArea DayOfWeekClaimed  \\\n",
       "0   Dec            5  Wednesday   Honda        Urban          Tuesday   \n",
       "1   Jan            3  Wednesday   Honda        Urban           Monday   \n",
       "2   Oct            5     Friday   Honda        Urban         Thursday   \n",
       "3   Jun            2   Saturday  Toyota        Rural           Friday   \n",
       "4   Jan            5     Monday   Honda        Urban          Tuesday   \n",
       "\n",
       "  MonthClaimed  WeekOfMonthClaimed     Sex MaritalStatus  ...  AgeOfVehicle  \\\n",
       "0          Jan                   1  Female        Single  ...       3 years   \n",
       "1          Jan                   4    Male        Single  ...       6 years   \n",
       "2          Nov                   2    Male       Married  ...       7 years   \n",
       "3          Jul                   1    Male       Married  ...   more than 7   \n",
       "4          Feb                   2  Female        Single  ...       5 years   \n",
       "\n",
       "  AgeOfPolicyHolder PoliceReportFiled WitnessPresent AgentType  \\\n",
       "0          26 to 30                No             No  External   \n",
       "1          31 to 35               Yes             No  External   \n",
       "2          41 to 50                No             No  External   \n",
       "3          51 to 65               Yes             No  External   \n",
       "4          31 to 35                No             No  External   \n",
       "\n",
       "   NumberOfSuppliments  AddressChange_Claim  NumberOfCars  Year  BasePolicy  \n",
       "0                 none               1 year        3 to 4  1994   Liability  \n",
       "1                 none            no change     1 vehicle  1994   Collision  \n",
       "2                 none            no change     1 vehicle  1994   Collision  \n",
       "3          more than 5            no change     1 vehicle  1994   Liability  \n",
       "4                 none            no change     1 vehicle  1994   Collision  \n",
       "\n",
       "[5 rows x 33 columns]"
      ]
     },
     "execution_count": 3,
     "metadata": {},
     "output_type": "execute_result"
    }
   ],
   "source": [
    "dataset = pd.read_csv('fraud_oracle.csv')\n",
    "\n",
    "dataset.head()\n"
   ]
  },
  {
   "cell_type": "markdown",
   "metadata": {},
   "source": [
    "# Preparing the dataset"
   ]
  },
  {
   "cell_type": "code",
   "execution_count": 4,
   "metadata": {},
   "outputs": [
    {
     "name": "stdout",
     "output_type": "stream",
     "text": [
      "DayOfWeekClaimed has  1  row(s) with a 0\n",
      "MonthClaimed has  1  row(s) with a 0\n",
      " \n"
     ]
    }
   ],
   "source": [
    "#removing zeros\n",
    "print('DayOfWeekClaimed has ', len(dataset.loc[(dataset['DayOfWeekClaimed']=='0')]), ' row(s) with a 0')\n",
    "print('MonthClaimed has ',len(dataset.loc[(dataset['MonthClaimed']=='0')]),' row(s) with a 0') \n",
    "print(' ')"
   ]
  },
  {
   "cell_type": "code",
   "execution_count": 5,
   "metadata": {},
   "outputs": [
    {
     "name": "stdout",
     "output_type": "stream",
     "text": [
      "     Month  WeekOfMonth DayOfWeek   Make AccidentArea DayOfWeekClaimed  \\\n",
      "1516   Jul            2    Monday  Honda        Rural                0   \n",
      "\n",
      "     MonthClaimed  WeekOfMonthClaimed   Sex MaritalStatus  ...  AgeOfVehicle  \\\n",
      "1516            0                   1  Male        Single  ...           new   \n",
      "\n",
      "     AgeOfPolicyHolder PoliceReportFiled WitnessPresent AgentType  \\\n",
      "1516          16 to 17                No             No  External   \n",
      "\n",
      "      NumberOfSuppliments  AddressChange_Claim  NumberOfCars  Year  BasePolicy  \n",
      "1516                 none            no change     1 vehicle  1994  All Perils  \n",
      "\n",
      "[1 rows x 33 columns]\n",
      "     Month  WeekOfMonth DayOfWeek   Make AccidentArea DayOfWeekClaimed  \\\n",
      "1516   Jul            2    Monday  Honda        Rural                0   \n",
      "\n",
      "     MonthClaimed  WeekOfMonthClaimed   Sex MaritalStatus  ...  AgeOfVehicle  \\\n",
      "1516            0                   1  Male        Single  ...           new   \n",
      "\n",
      "     AgeOfPolicyHolder PoliceReportFiled WitnessPresent AgentType  \\\n",
      "1516          16 to 17                No             No  External   \n",
      "\n",
      "      NumberOfSuppliments  AddressChange_Claim  NumberOfCars  Year  BasePolicy  \n",
      "1516                 none            no change     1 vehicle  1994  All Perils  \n",
      "\n",
      "[1 rows x 33 columns]\n"
     ]
    }
   ],
   "source": [
    "print(dataset.loc[(dataset['DayOfWeekClaimed']=='0')])\n",
    "print(dataset.loc[(dataset['MonthClaimed']=='0')])"
   ]
  },
  {
   "cell_type": "code",
   "execution_count": 6,
   "metadata": {},
   "outputs": [],
   "source": [
    "df = dataset.loc[dataset['DayOfWeekClaimed']!='0']"
   ]
  },
  {
   "cell_type": "code",
   "execution_count": 7,
   "metadata": {},
   "outputs": [
    {
     "data": {
      "text/plain": [
       "(15420, 33)"
      ]
     },
     "execution_count": 7,
     "metadata": {},
     "output_type": "execute_result"
    }
   ],
   "source": [
    "dataset.shape"
   ]
  },
  {
   "cell_type": "code",
   "execution_count": 8,
   "metadata": {},
   "outputs": [
    {
     "data": {
      "text/plain": [
       "15419"
      ]
     },
     "execution_count": 8,
     "metadata": {},
     "output_type": "execute_result"
    }
   ],
   "source": [
    "df.reset_index(drop=True, inplace=True)\n",
    "len(df)"
   ]
  },
  {
   "cell_type": "code",
   "execution_count": 9,
   "metadata": {},
   "outputs": [
    {
     "name": "stdout",
     "output_type": "stream",
     "text": [
      "319\n"
     ]
    }
   ],
   "source": [
    "#Checking which Policy Holder has Age=0\n",
    "print(len(df[df['Age']==0]))\n",
    "\n",
    "df.loc[df['Age']==0, 'AgeOfPolicyHolder']\n",
    "df_age0_idx = (df['Age']==0)"
   ]
  },
  {
   "cell_type": "code",
   "execution_count": 10,
   "metadata": {},
   "outputs": [
    {
     "data": {
      "text/plain": [
       "array(['16 to 17'], dtype=object)"
      ]
     },
     "execution_count": 10,
     "metadata": {},
     "output_type": "execute_result"
    }
   ],
   "source": [
    "#Policy Holder that is aged between 16 and 17 years\n",
    "df.loc[(df['Age']==0),'AgeOfPolicyHolder'].unique()"
   ]
  },
  {
   "cell_type": "code",
   "execution_count": 11,
   "metadata": {},
   "outputs": [],
   "source": [
    "#we split the variable 'AgeOfPolicyHolder' so we can check that the age variable is in range for policyholder\n",
    "\n",
    "groupings = []\n",
    "for holder in df['AgeOfPolicyHolder']:\n",
    "    if 'to' in holder :\n",
    "        temp = holder.split()\n",
    "        nr=[int(temp[0]),int(temp[2])]\n",
    "        groupings.append(nr)\n",
    "    else :\n",
    "        temp = holder.split()\n",
    "        nr = [int(temp[1]),129]\n",
    "        groupings.append(nr)"
   ]
  },
  {
   "cell_type": "code",
   "execution_count": 12,
   "metadata": {},
   "outputs": [],
   "source": [
    "age_idx = []\n",
    "rw_idx = []\n",
    "for r in range(len(df['Age'])):\n",
    "    if (df.loc[r,'Age']>= groupings[r][0]) & (df.loc[r,'Age']<= groupings[r][1]):\n",
    "        age_idx.append(0)\n",
    "    else:\n",
    "        age_idx.append(1)\n",
    "        rw_idx.append(r)"
   ]
  },
  {
   "cell_type": "code",
   "execution_count": 13,
   "metadata": {},
   "outputs": [
    {
     "name": "stdout",
     "output_type": "stream",
     "text": [
      "7241\n"
     ]
    },
    {
     "data": {
      "text/html": [
       "<div>\n",
       "<style scoped>\n",
       "    .dataframe tbody tr th:only-of-type {\n",
       "        vertical-align: middle;\n",
       "    }\n",
       "\n",
       "    .dataframe tbody tr th {\n",
       "        vertical-align: top;\n",
       "    }\n",
       "\n",
       "    .dataframe thead th {\n",
       "        text-align: right;\n",
       "    }\n",
       "</style>\n",
       "<table border=\"1\" class=\"dataframe\">\n",
       "  <thead>\n",
       "    <tr style=\"text-align: right;\">\n",
       "      <th></th>\n",
       "      <th>Age</th>\n",
       "      <th>AgeOfPolicyHolder</th>\n",
       "    </tr>\n",
       "  </thead>\n",
       "  <tbody>\n",
       "    <tr>\n",
       "      <th>0</th>\n",
       "      <td>21</td>\n",
       "      <td>26 to 30</td>\n",
       "    </tr>\n",
       "    <tr>\n",
       "      <th>4</th>\n",
       "      <td>27</td>\n",
       "      <td>31 to 35</td>\n",
       "    </tr>\n",
       "    <tr>\n",
       "      <th>5</th>\n",
       "      <td>20</td>\n",
       "      <td>21 to 25</td>\n",
       "    </tr>\n",
       "    <tr>\n",
       "      <th>7</th>\n",
       "      <td>0</td>\n",
       "      <td>16 to 17</td>\n",
       "    </tr>\n",
       "    <tr>\n",
       "      <th>8</th>\n",
       "      <td>30</td>\n",
       "      <td>31 to 35</td>\n",
       "    </tr>\n",
       "  </tbody>\n",
       "</table>\n",
       "</div>"
      ],
      "text/plain": [
       "   Age AgeOfPolicyHolder\n",
       "0   21          26 to 30\n",
       "4   27          31 to 35\n",
       "5   20          21 to 25\n",
       "7    0          16 to 17\n",
       "8   30          31 to 35"
      ]
     },
     "execution_count": 13,
     "metadata": {},
     "output_type": "execute_result"
    }
   ],
   "source": [
    "print(len(df.loc[list(rw_idx),('Age','AgeOfPolicyHolder')]))\n",
    "df.loc[list(rw_idx),('Age','AgeOfPolicyHolder')].head()"
   ]
  },
  {
   "cell_type": "code",
   "execution_count": 14,
   "metadata": {},
   "outputs": [],
   "source": [
    "#We put an age of 16.5 to all rows with missing Age value\n",
    "df.loc[list(df_age0_idx),'Age']=16.5"
   ]
  },
  {
   "cell_type": "code",
   "execution_count": 15,
   "metadata": {},
   "outputs": [
    {
     "name": "stdout",
     "output_type": "stream",
     "text": [
      "[False False False False False False False False False False False False\n",
      " False False False False False False False False False False False False\n",
      " False False False False False False False False False False False False\n",
      " False False False False False False False False False False False False\n",
      " False False False False False False False False False False False False\n",
      " False False False False False False]\n"
     ]
    },
    {
     "data": {
      "text/plain": [
       "0"
      ]
     },
     "execution_count": 15,
     "metadata": {},
     "output_type": "execute_result"
    }
   ],
   "source": [
    "print(df['Age'].unique()==0)\n",
    "len(df[df['Age']==0])"
   ]
  },
  {
   "cell_type": "code",
   "execution_count": 16,
   "metadata": {},
   "outputs": [
    {
     "name": "stdout",
     "output_type": "stream",
     "text": [
      "True\n"
     ]
    }
   ],
   "source": [
    "#Checking to see if we have duplicate rows\n",
    "print(len(df.drop_duplicates())==len(df))"
   ]
  },
  {
   "cell_type": "code",
   "execution_count": 17,
   "metadata": {},
   "outputs": [],
   "source": [
    "#changing the name\n",
    "dataset=df"
   ]
  },
  {
   "cell_type": "markdown",
   "metadata": {},
   "source": [
    "Converting to binary values:"
   ]
  },
  {
   "cell_type": "code",
   "execution_count": 18,
   "metadata": {},
   "outputs": [],
   "source": [
    "# Convert to binary values\n",
    "dataset[\"AccidentArea\"] = dataset[\"AccidentArea\"].map({\"Urban\":1, \"Rural\":0})\n",
    "dataset[\"AccidentArea\"] = dataset[\"AccidentArea\"].astype(int)"
   ]
  },
  {
   "cell_type": "code",
   "execution_count": 19,
   "metadata": {},
   "outputs": [],
   "source": [
    "\n",
    "dataset[\"AgentType\"] = dataset[\"AgentType\"].map({\"External\":1, \"Internal\":0})\n",
    "dataset[\"AgentType\"] = dataset[\"AgentType\"].astype(int)"
   ]
  },
  {
   "cell_type": "code",
   "execution_count": 20,
   "metadata": {},
   "outputs": [],
   "source": [
    "\n",
    "dataset[\"WitnessPresent\"] = dataset[\"WitnessPresent\"].map({\"No\":0, \"Yes\":1})\n",
    "dataset[\"WitnessPresent\"] = dataset[\"WitnessPresent\"].astype(int)"
   ]
  },
  {
   "cell_type": "code",
   "execution_count": 21,
   "metadata": {},
   "outputs": [],
   "source": [
    "\n",
    "dataset[\"PoliceReportFiled\"] = dataset[\"PoliceReportFiled\"].map({\"No\":0, \"Yes\":1})\n",
    "dataset[\"PoliceReportFiled\"] = dataset[\"PoliceReportFiled\"].astype(int)"
   ]
  },
  {
   "cell_type": "code",
   "execution_count": 22,
   "metadata": {},
   "outputs": [],
   "source": [
    "\n",
    "dataset[\"Sex\"] = dataset[\"Sex\"].map({\"Male\":0, \"Female\":1})\n",
    "dataset[\"Sex\"] = dataset[\"Sex\"].astype(int)"
   ]
  },
  {
   "cell_type": "code",
   "execution_count": 23,
   "metadata": {},
   "outputs": [],
   "source": [
    "\n",
    "dataset[\"Fault\"] = dataset[\"Fault\"].map({\"Policy Holder\":1, \"Third Party\":0})\n",
    "dataset[\"Fault\"] = dataset[\"Fault\"].astype(int)"
   ]
  },
  {
   "cell_type": "code",
   "execution_count": 24,
   "metadata": {},
   "outputs": [],
   "source": [
    "pd.set_option('display.max_columns', None)"
   ]
  },
  {
   "cell_type": "code",
   "execution_count": 25,
   "metadata": {
    "scrolled": true
   },
   "outputs": [
    {
     "data": {
      "text/html": [
       "<div>\n",
       "<style scoped>\n",
       "    .dataframe tbody tr th:only-of-type {\n",
       "        vertical-align: middle;\n",
       "    }\n",
       "\n",
       "    .dataframe tbody tr th {\n",
       "        vertical-align: top;\n",
       "    }\n",
       "\n",
       "    .dataframe thead th {\n",
       "        text-align: right;\n",
       "    }\n",
       "</style>\n",
       "<table border=\"1\" class=\"dataframe\">\n",
       "  <thead>\n",
       "    <tr style=\"text-align: right;\">\n",
       "      <th></th>\n",
       "      <th>Month</th>\n",
       "      <th>WeekOfMonth</th>\n",
       "      <th>DayOfWeek</th>\n",
       "      <th>Make</th>\n",
       "      <th>AccidentArea</th>\n",
       "      <th>DayOfWeekClaimed</th>\n",
       "      <th>MonthClaimed</th>\n",
       "      <th>WeekOfMonthClaimed</th>\n",
       "      <th>Sex</th>\n",
       "      <th>MaritalStatus</th>\n",
       "      <th>Age</th>\n",
       "      <th>Fault</th>\n",
       "      <th>PolicyType</th>\n",
       "      <th>VehicleCategory</th>\n",
       "      <th>VehiclePrice</th>\n",
       "      <th>FraudFound_P</th>\n",
       "      <th>PolicyNumber</th>\n",
       "      <th>RepNumber</th>\n",
       "      <th>Deductible</th>\n",
       "      <th>DriverRating</th>\n",
       "      <th>Days_Policy_Accident</th>\n",
       "      <th>Days_Policy_Claim</th>\n",
       "      <th>PastNumberOfClaims</th>\n",
       "      <th>AgeOfVehicle</th>\n",
       "      <th>AgeOfPolicyHolder</th>\n",
       "      <th>PoliceReportFiled</th>\n",
       "      <th>WitnessPresent</th>\n",
       "      <th>AgentType</th>\n",
       "      <th>NumberOfSuppliments</th>\n",
       "      <th>AddressChange_Claim</th>\n",
       "      <th>NumberOfCars</th>\n",
       "      <th>Year</th>\n",
       "      <th>BasePolicy</th>\n",
       "    </tr>\n",
       "  </thead>\n",
       "  <tbody>\n",
       "    <tr>\n",
       "      <th>0</th>\n",
       "      <td>Dec</td>\n",
       "      <td>5</td>\n",
       "      <td>Wednesday</td>\n",
       "      <td>Honda</td>\n",
       "      <td>1</td>\n",
       "      <td>Tuesday</td>\n",
       "      <td>Jan</td>\n",
       "      <td>1</td>\n",
       "      <td>1</td>\n",
       "      <td>Single</td>\n",
       "      <td>21.0</td>\n",
       "      <td>1</td>\n",
       "      <td>Sport - Liability</td>\n",
       "      <td>Sport</td>\n",
       "      <td>more than 69000</td>\n",
       "      <td>0</td>\n",
       "      <td>1</td>\n",
       "      <td>12</td>\n",
       "      <td>300</td>\n",
       "      <td>1</td>\n",
       "      <td>more than 30</td>\n",
       "      <td>more than 30</td>\n",
       "      <td>none</td>\n",
       "      <td>3 years</td>\n",
       "      <td>26 to 30</td>\n",
       "      <td>0</td>\n",
       "      <td>0</td>\n",
       "      <td>1</td>\n",
       "      <td>none</td>\n",
       "      <td>1 year</td>\n",
       "      <td>3 to 4</td>\n",
       "      <td>1994</td>\n",
       "      <td>Liability</td>\n",
       "    </tr>\n",
       "    <tr>\n",
       "      <th>1</th>\n",
       "      <td>Jan</td>\n",
       "      <td>3</td>\n",
       "      <td>Wednesday</td>\n",
       "      <td>Honda</td>\n",
       "      <td>1</td>\n",
       "      <td>Monday</td>\n",
       "      <td>Jan</td>\n",
       "      <td>4</td>\n",
       "      <td>0</td>\n",
       "      <td>Single</td>\n",
       "      <td>34.0</td>\n",
       "      <td>1</td>\n",
       "      <td>Sport - Collision</td>\n",
       "      <td>Sport</td>\n",
       "      <td>more than 69000</td>\n",
       "      <td>0</td>\n",
       "      <td>2</td>\n",
       "      <td>15</td>\n",
       "      <td>400</td>\n",
       "      <td>4</td>\n",
       "      <td>more than 30</td>\n",
       "      <td>more than 30</td>\n",
       "      <td>none</td>\n",
       "      <td>6 years</td>\n",
       "      <td>31 to 35</td>\n",
       "      <td>1</td>\n",
       "      <td>0</td>\n",
       "      <td>1</td>\n",
       "      <td>none</td>\n",
       "      <td>no change</td>\n",
       "      <td>1 vehicle</td>\n",
       "      <td>1994</td>\n",
       "      <td>Collision</td>\n",
       "    </tr>\n",
       "    <tr>\n",
       "      <th>2</th>\n",
       "      <td>Oct</td>\n",
       "      <td>5</td>\n",
       "      <td>Friday</td>\n",
       "      <td>Honda</td>\n",
       "      <td>1</td>\n",
       "      <td>Thursday</td>\n",
       "      <td>Nov</td>\n",
       "      <td>2</td>\n",
       "      <td>0</td>\n",
       "      <td>Married</td>\n",
       "      <td>47.0</td>\n",
       "      <td>1</td>\n",
       "      <td>Sport - Collision</td>\n",
       "      <td>Sport</td>\n",
       "      <td>more than 69000</td>\n",
       "      <td>0</td>\n",
       "      <td>3</td>\n",
       "      <td>7</td>\n",
       "      <td>400</td>\n",
       "      <td>3</td>\n",
       "      <td>more than 30</td>\n",
       "      <td>more than 30</td>\n",
       "      <td>1</td>\n",
       "      <td>7 years</td>\n",
       "      <td>41 to 50</td>\n",
       "      <td>0</td>\n",
       "      <td>0</td>\n",
       "      <td>1</td>\n",
       "      <td>none</td>\n",
       "      <td>no change</td>\n",
       "      <td>1 vehicle</td>\n",
       "      <td>1994</td>\n",
       "      <td>Collision</td>\n",
       "    </tr>\n",
       "    <tr>\n",
       "      <th>3</th>\n",
       "      <td>Jun</td>\n",
       "      <td>2</td>\n",
       "      <td>Saturday</td>\n",
       "      <td>Toyota</td>\n",
       "      <td>0</td>\n",
       "      <td>Friday</td>\n",
       "      <td>Jul</td>\n",
       "      <td>1</td>\n",
       "      <td>0</td>\n",
       "      <td>Married</td>\n",
       "      <td>65.0</td>\n",
       "      <td>0</td>\n",
       "      <td>Sedan - Liability</td>\n",
       "      <td>Sport</td>\n",
       "      <td>20000 to 29000</td>\n",
       "      <td>0</td>\n",
       "      <td>4</td>\n",
       "      <td>4</td>\n",
       "      <td>400</td>\n",
       "      <td>2</td>\n",
       "      <td>more than 30</td>\n",
       "      <td>more than 30</td>\n",
       "      <td>1</td>\n",
       "      <td>more than 7</td>\n",
       "      <td>51 to 65</td>\n",
       "      <td>1</td>\n",
       "      <td>0</td>\n",
       "      <td>1</td>\n",
       "      <td>more than 5</td>\n",
       "      <td>no change</td>\n",
       "      <td>1 vehicle</td>\n",
       "      <td>1994</td>\n",
       "      <td>Liability</td>\n",
       "    </tr>\n",
       "    <tr>\n",
       "      <th>4</th>\n",
       "      <td>Jan</td>\n",
       "      <td>5</td>\n",
       "      <td>Monday</td>\n",
       "      <td>Honda</td>\n",
       "      <td>1</td>\n",
       "      <td>Tuesday</td>\n",
       "      <td>Feb</td>\n",
       "      <td>2</td>\n",
       "      <td>1</td>\n",
       "      <td>Single</td>\n",
       "      <td>27.0</td>\n",
       "      <td>0</td>\n",
       "      <td>Sport - Collision</td>\n",
       "      <td>Sport</td>\n",
       "      <td>more than 69000</td>\n",
       "      <td>0</td>\n",
       "      <td>5</td>\n",
       "      <td>3</td>\n",
       "      <td>400</td>\n",
       "      <td>1</td>\n",
       "      <td>more than 30</td>\n",
       "      <td>more than 30</td>\n",
       "      <td>none</td>\n",
       "      <td>5 years</td>\n",
       "      <td>31 to 35</td>\n",
       "      <td>0</td>\n",
       "      <td>0</td>\n",
       "      <td>1</td>\n",
       "      <td>none</td>\n",
       "      <td>no change</td>\n",
       "      <td>1 vehicle</td>\n",
       "      <td>1994</td>\n",
       "      <td>Collision</td>\n",
       "    </tr>\n",
       "  </tbody>\n",
       "</table>\n",
       "</div>"
      ],
      "text/plain": [
       "  Month  WeekOfMonth  DayOfWeek    Make  AccidentArea DayOfWeekClaimed  \\\n",
       "0   Dec            5  Wednesday   Honda             1          Tuesday   \n",
       "1   Jan            3  Wednesday   Honda             1           Monday   \n",
       "2   Oct            5     Friday   Honda             1         Thursday   \n",
       "3   Jun            2   Saturday  Toyota             0           Friday   \n",
       "4   Jan            5     Monday   Honda             1          Tuesday   \n",
       "\n",
       "  MonthClaimed  WeekOfMonthClaimed  Sex MaritalStatus   Age  Fault  \\\n",
       "0          Jan                   1    1        Single  21.0      1   \n",
       "1          Jan                   4    0        Single  34.0      1   \n",
       "2          Nov                   2    0       Married  47.0      1   \n",
       "3          Jul                   1    0       Married  65.0      0   \n",
       "4          Feb                   2    1        Single  27.0      0   \n",
       "\n",
       "          PolicyType VehicleCategory     VehiclePrice  FraudFound_P  \\\n",
       "0  Sport - Liability           Sport  more than 69000             0   \n",
       "1  Sport - Collision           Sport  more than 69000             0   \n",
       "2  Sport - Collision           Sport  more than 69000             0   \n",
       "3  Sedan - Liability           Sport   20000 to 29000             0   \n",
       "4  Sport - Collision           Sport  more than 69000             0   \n",
       "\n",
       "   PolicyNumber  RepNumber  Deductible  DriverRating Days_Policy_Accident  \\\n",
       "0             1         12         300             1         more than 30   \n",
       "1             2         15         400             4         more than 30   \n",
       "2             3          7         400             3         more than 30   \n",
       "3             4          4         400             2         more than 30   \n",
       "4             5          3         400             1         more than 30   \n",
       "\n",
       "  Days_Policy_Claim PastNumberOfClaims AgeOfVehicle AgeOfPolicyHolder  \\\n",
       "0      more than 30               none      3 years          26 to 30   \n",
       "1      more than 30               none      6 years          31 to 35   \n",
       "2      more than 30                  1      7 years          41 to 50   \n",
       "3      more than 30                  1  more than 7          51 to 65   \n",
       "4      more than 30               none      5 years          31 to 35   \n",
       "\n",
       "   PoliceReportFiled  WitnessPresent  AgentType NumberOfSuppliments  \\\n",
       "0                  0               0          1                none   \n",
       "1                  1               0          1                none   \n",
       "2                  0               0          1                none   \n",
       "3                  1               0          1         more than 5   \n",
       "4                  0               0          1                none   \n",
       "\n",
       "  AddressChange_Claim NumberOfCars  Year BasePolicy  \n",
       "0              1 year       3 to 4  1994  Liability  \n",
       "1           no change    1 vehicle  1994  Collision  \n",
       "2           no change    1 vehicle  1994  Collision  \n",
       "3           no change    1 vehicle  1994  Liability  \n",
       "4           no change    1 vehicle  1994  Collision  "
      ]
     },
     "execution_count": 25,
     "metadata": {},
     "output_type": "execute_result"
    }
   ],
   "source": [
    "    dataset.head()"
   ]
  },
  {
   "cell_type": "markdown",
   "metadata": {},
   "source": [
    "Dropping the variables that are not significant for the model"
   ]
  },
  {
   "cell_type": "code",
   "execution_count": 26,
   "metadata": {},
   "outputs": [],
   "source": [
    "dataset.drop([\"PolicyNumber\", \"RepNumber\"],inplace=True,axis=1)"
   ]
  },
  {
   "cell_type": "code",
   "execution_count": 27,
   "metadata": {},
   "outputs": [],
   "source": [
    "dataset.drop([\"DayOfWeekClaimed\"],inplace=True,axis=1)"
   ]
  },
  {
   "cell_type": "code",
   "execution_count": 28,
   "metadata": {},
   "outputs": [],
   "source": [
    "dataset.drop([\"PolicyType\"],inplace=True,axis=1)"
   ]
  },
  {
   "cell_type": "code",
   "execution_count": 29,
   "metadata": {},
   "outputs": [],
   "source": [
    "dataset.drop([\"AgeOfPolicyHolder\"],inplace=True,axis=1)"
   ]
  },
  {
   "cell_type": "code",
   "execution_count": 30,
   "metadata": {},
   "outputs": [],
   "source": [
    "dataset.drop([\"NumberOfSuppliments\", \"AddressChange_Claim\"],inplace=True,axis=1)"
   ]
  },
  {
   "cell_type": "code",
   "execution_count": 31,
   "metadata": {
    "scrolled": true
   },
   "outputs": [
    {
     "data": {
      "text/html": [
       "<div>\n",
       "<style scoped>\n",
       "    .dataframe tbody tr th:only-of-type {\n",
       "        vertical-align: middle;\n",
       "    }\n",
       "\n",
       "    .dataframe tbody tr th {\n",
       "        vertical-align: top;\n",
       "    }\n",
       "\n",
       "    .dataframe thead th {\n",
       "        text-align: right;\n",
       "    }\n",
       "</style>\n",
       "<table border=\"1\" class=\"dataframe\">\n",
       "  <thead>\n",
       "    <tr style=\"text-align: right;\">\n",
       "      <th></th>\n",
       "      <th>Month</th>\n",
       "      <th>WeekOfMonth</th>\n",
       "      <th>DayOfWeek</th>\n",
       "      <th>Make</th>\n",
       "      <th>AccidentArea</th>\n",
       "      <th>MonthClaimed</th>\n",
       "      <th>WeekOfMonthClaimed</th>\n",
       "      <th>Sex</th>\n",
       "      <th>MaritalStatus</th>\n",
       "      <th>Age</th>\n",
       "      <th>Fault</th>\n",
       "      <th>VehicleCategory</th>\n",
       "      <th>VehiclePrice</th>\n",
       "      <th>FraudFound_P</th>\n",
       "      <th>Deductible</th>\n",
       "      <th>DriverRating</th>\n",
       "      <th>Days_Policy_Accident</th>\n",
       "      <th>Days_Policy_Claim</th>\n",
       "      <th>PastNumberOfClaims</th>\n",
       "      <th>AgeOfVehicle</th>\n",
       "      <th>PoliceReportFiled</th>\n",
       "      <th>WitnessPresent</th>\n",
       "      <th>AgentType</th>\n",
       "      <th>NumberOfCars</th>\n",
       "      <th>Year</th>\n",
       "      <th>BasePolicy</th>\n",
       "    </tr>\n",
       "  </thead>\n",
       "  <tbody>\n",
       "    <tr>\n",
       "      <th>0</th>\n",
       "      <td>Dec</td>\n",
       "      <td>5</td>\n",
       "      <td>Wednesday</td>\n",
       "      <td>Honda</td>\n",
       "      <td>1</td>\n",
       "      <td>Jan</td>\n",
       "      <td>1</td>\n",
       "      <td>1</td>\n",
       "      <td>Single</td>\n",
       "      <td>21.0</td>\n",
       "      <td>1</td>\n",
       "      <td>Sport</td>\n",
       "      <td>more than 69000</td>\n",
       "      <td>0</td>\n",
       "      <td>300</td>\n",
       "      <td>1</td>\n",
       "      <td>more than 30</td>\n",
       "      <td>more than 30</td>\n",
       "      <td>none</td>\n",
       "      <td>3 years</td>\n",
       "      <td>0</td>\n",
       "      <td>0</td>\n",
       "      <td>1</td>\n",
       "      <td>3 to 4</td>\n",
       "      <td>1994</td>\n",
       "      <td>Liability</td>\n",
       "    </tr>\n",
       "    <tr>\n",
       "      <th>1</th>\n",
       "      <td>Jan</td>\n",
       "      <td>3</td>\n",
       "      <td>Wednesday</td>\n",
       "      <td>Honda</td>\n",
       "      <td>1</td>\n",
       "      <td>Jan</td>\n",
       "      <td>4</td>\n",
       "      <td>0</td>\n",
       "      <td>Single</td>\n",
       "      <td>34.0</td>\n",
       "      <td>1</td>\n",
       "      <td>Sport</td>\n",
       "      <td>more than 69000</td>\n",
       "      <td>0</td>\n",
       "      <td>400</td>\n",
       "      <td>4</td>\n",
       "      <td>more than 30</td>\n",
       "      <td>more than 30</td>\n",
       "      <td>none</td>\n",
       "      <td>6 years</td>\n",
       "      <td>1</td>\n",
       "      <td>0</td>\n",
       "      <td>1</td>\n",
       "      <td>1 vehicle</td>\n",
       "      <td>1994</td>\n",
       "      <td>Collision</td>\n",
       "    </tr>\n",
       "    <tr>\n",
       "      <th>2</th>\n",
       "      <td>Oct</td>\n",
       "      <td>5</td>\n",
       "      <td>Friday</td>\n",
       "      <td>Honda</td>\n",
       "      <td>1</td>\n",
       "      <td>Nov</td>\n",
       "      <td>2</td>\n",
       "      <td>0</td>\n",
       "      <td>Married</td>\n",
       "      <td>47.0</td>\n",
       "      <td>1</td>\n",
       "      <td>Sport</td>\n",
       "      <td>more than 69000</td>\n",
       "      <td>0</td>\n",
       "      <td>400</td>\n",
       "      <td>3</td>\n",
       "      <td>more than 30</td>\n",
       "      <td>more than 30</td>\n",
       "      <td>1</td>\n",
       "      <td>7 years</td>\n",
       "      <td>0</td>\n",
       "      <td>0</td>\n",
       "      <td>1</td>\n",
       "      <td>1 vehicle</td>\n",
       "      <td>1994</td>\n",
       "      <td>Collision</td>\n",
       "    </tr>\n",
       "    <tr>\n",
       "      <th>3</th>\n",
       "      <td>Jun</td>\n",
       "      <td>2</td>\n",
       "      <td>Saturday</td>\n",
       "      <td>Toyota</td>\n",
       "      <td>0</td>\n",
       "      <td>Jul</td>\n",
       "      <td>1</td>\n",
       "      <td>0</td>\n",
       "      <td>Married</td>\n",
       "      <td>65.0</td>\n",
       "      <td>0</td>\n",
       "      <td>Sport</td>\n",
       "      <td>20000 to 29000</td>\n",
       "      <td>0</td>\n",
       "      <td>400</td>\n",
       "      <td>2</td>\n",
       "      <td>more than 30</td>\n",
       "      <td>more than 30</td>\n",
       "      <td>1</td>\n",
       "      <td>more than 7</td>\n",
       "      <td>1</td>\n",
       "      <td>0</td>\n",
       "      <td>1</td>\n",
       "      <td>1 vehicle</td>\n",
       "      <td>1994</td>\n",
       "      <td>Liability</td>\n",
       "    </tr>\n",
       "    <tr>\n",
       "      <th>4</th>\n",
       "      <td>Jan</td>\n",
       "      <td>5</td>\n",
       "      <td>Monday</td>\n",
       "      <td>Honda</td>\n",
       "      <td>1</td>\n",
       "      <td>Feb</td>\n",
       "      <td>2</td>\n",
       "      <td>1</td>\n",
       "      <td>Single</td>\n",
       "      <td>27.0</td>\n",
       "      <td>0</td>\n",
       "      <td>Sport</td>\n",
       "      <td>more than 69000</td>\n",
       "      <td>0</td>\n",
       "      <td>400</td>\n",
       "      <td>1</td>\n",
       "      <td>more than 30</td>\n",
       "      <td>more than 30</td>\n",
       "      <td>none</td>\n",
       "      <td>5 years</td>\n",
       "      <td>0</td>\n",
       "      <td>0</td>\n",
       "      <td>1</td>\n",
       "      <td>1 vehicle</td>\n",
       "      <td>1994</td>\n",
       "      <td>Collision</td>\n",
       "    </tr>\n",
       "  </tbody>\n",
       "</table>\n",
       "</div>"
      ],
      "text/plain": [
       "  Month  WeekOfMonth  DayOfWeek    Make  AccidentArea MonthClaimed  \\\n",
       "0   Dec            5  Wednesday   Honda             1          Jan   \n",
       "1   Jan            3  Wednesday   Honda             1          Jan   \n",
       "2   Oct            5     Friday   Honda             1          Nov   \n",
       "3   Jun            2   Saturday  Toyota             0          Jul   \n",
       "4   Jan            5     Monday   Honda             1          Feb   \n",
       "\n",
       "   WeekOfMonthClaimed  Sex MaritalStatus   Age  Fault VehicleCategory  \\\n",
       "0                   1    1        Single  21.0      1           Sport   \n",
       "1                   4    0        Single  34.0      1           Sport   \n",
       "2                   2    0       Married  47.0      1           Sport   \n",
       "3                   1    0       Married  65.0      0           Sport   \n",
       "4                   2    1        Single  27.0      0           Sport   \n",
       "\n",
       "      VehiclePrice  FraudFound_P  Deductible  DriverRating  \\\n",
       "0  more than 69000             0         300             1   \n",
       "1  more than 69000             0         400             4   \n",
       "2  more than 69000             0         400             3   \n",
       "3   20000 to 29000             0         400             2   \n",
       "4  more than 69000             0         400             1   \n",
       "\n",
       "  Days_Policy_Accident Days_Policy_Claim PastNumberOfClaims AgeOfVehicle  \\\n",
       "0         more than 30      more than 30               none      3 years   \n",
       "1         more than 30      more than 30               none      6 years   \n",
       "2         more than 30      more than 30                  1      7 years   \n",
       "3         more than 30      more than 30                  1  more than 7   \n",
       "4         more than 30      more than 30               none      5 years   \n",
       "\n",
       "   PoliceReportFiled  WitnessPresent  AgentType NumberOfCars  Year BasePolicy  \n",
       "0                  0               0          1       3 to 4  1994  Liability  \n",
       "1                  1               0          1    1 vehicle  1994  Collision  \n",
       "2                  0               0          1    1 vehicle  1994  Collision  \n",
       "3                  1               0          1    1 vehicle  1994  Liability  \n",
       "4                  0               0          1    1 vehicle  1994  Collision  "
      ]
     },
     "execution_count": 31,
     "metadata": {},
     "output_type": "execute_result"
    }
   ],
   "source": [
    "dataset.head()"
   ]
  },
  {
   "cell_type": "markdown",
   "metadata": {},
   "source": [
    "Creating dummy variables to categorical variables that are objects"
   ]
  },
  {
   "cell_type": "code",
   "execution_count": 32,
   "metadata": {},
   "outputs": [],
   "source": [
    "\n",
    "dataset = pd.get_dummies(dataset, columns = [\"Make\"], drop_first = True, dtype=int)\n"
   ]
  },
  {
   "cell_type": "code",
   "execution_count": 33,
   "metadata": {},
   "outputs": [],
   "source": [
    "\n",
    "dataset = pd.get_dummies(dataset, columns = [\"Days_Policy_Accident\"], drop_first = True, dtype=int)\n"
   ]
  },
  {
   "cell_type": "code",
   "execution_count": 34,
   "metadata": {},
   "outputs": [],
   "source": [
    "\n",
    "dataset = pd.get_dummies(dataset, columns = [\"Month\"], drop_first = True, dtype=int)\n"
   ]
  },
  {
   "cell_type": "code",
   "execution_count": 35,
   "metadata": {},
   "outputs": [],
   "source": [
    "\n",
    "dataset = pd.get_dummies(dataset, columns = [\"Days_Policy_Claim\"], drop_first = True, dtype=int)\n"
   ]
  },
  {
   "cell_type": "code",
   "execution_count": 36,
   "metadata": {},
   "outputs": [],
   "source": [
    "\n",
    "dataset = pd.get_dummies(dataset, columns = [\"VehiclePrice\"], drop_first = True, dtype=int)\n"
   ]
  },
  {
   "cell_type": "code",
   "execution_count": 37,
   "metadata": {},
   "outputs": [],
   "source": [
    "\n",
    "dataset = pd.get_dummies(dataset, columns = [\"AgeOfVehicle\"], drop_first = True, dtype=int)\n"
   ]
  },
  {
   "cell_type": "code",
   "execution_count": 38,
   "metadata": {},
   "outputs": [],
   "source": [
    "\n",
    "dataset = pd.get_dummies(dataset, columns = [\"PastNumberOfClaims\"], drop_first = True, dtype=int)\n"
   ]
  },
  {
   "cell_type": "code",
   "execution_count": 39,
   "metadata": {},
   "outputs": [],
   "source": [
    "\n",
    "dataset = pd.get_dummies(dataset, columns = [\"Year\"], drop_first = True, dtype=int)\n"
   ]
  },
  {
   "cell_type": "code",
   "execution_count": 40,
   "metadata": {},
   "outputs": [],
   "source": [
    "\n",
    "dataset = pd.get_dummies(dataset, columns = [\"DayOfWeek\"], drop_first = True, dtype=int)\n"
   ]
  },
  {
   "cell_type": "code",
   "execution_count": 41,
   "metadata": {},
   "outputs": [],
   "source": [
    "\n",
    "dataset = pd.get_dummies(dataset, columns = [\"VehicleCategory\"], drop_first = True, dtype=int)\n"
   ]
  },
  {
   "cell_type": "code",
   "execution_count": 42,
   "metadata": {},
   "outputs": [],
   "source": [
    "\n",
    "dataset = pd.get_dummies(dataset, columns = [\"MonthClaimed\"], drop_first = True, dtype=int)\n"
   ]
  },
  {
   "cell_type": "code",
   "execution_count": 43,
   "metadata": {},
   "outputs": [],
   "source": [
    "\n",
    "dataset = pd.get_dummies(dataset, columns = [\"NumberOfCars\"], drop_first = True, dtype=int)\n"
   ]
  },
  {
   "cell_type": "code",
   "execution_count": 44,
   "metadata": {},
   "outputs": [],
   "source": [
    "\n",
    "dataset = pd.get_dummies(dataset, columns = [\"BasePolicy\"], drop_first = True, dtype=int)\n"
   ]
  },
  {
   "cell_type": "code",
   "execution_count": 45,
   "metadata": {},
   "outputs": [],
   "source": [
    "\n",
    "dataset = pd.get_dummies(dataset, columns = [\"MaritalStatus\"], drop_first = True, dtype=int)\n"
   ]
  },
  {
   "cell_type": "code",
   "execution_count": 46,
   "metadata": {},
   "outputs": [
    {
     "data": {
      "text/plain": [
       "(15419, 92)"
      ]
     },
     "execution_count": 46,
     "metadata": {},
     "output_type": "execute_result"
    }
   ],
   "source": [
    "dataset.shape"
   ]
  },
  {
   "cell_type": "markdown",
   "metadata": {},
   "source": [
    "Dividing the dataset for target and income variables"
   ]
  },
  {
   "cell_type": "code",
   "execution_count": 47,
   "metadata": {},
   "outputs": [],
   "source": [
    "X = dataset.drop(columns=['FraudFound_P'])\n",
    "y = dataset['FraudFound_P'].to_frame()"
   ]
  },
  {
   "cell_type": "markdown",
   "metadata": {},
   "source": [
    "Splitting into train and test set"
   ]
  },
  {
   "cell_type": "code",
   "execution_count": 48,
   "metadata": {},
   "outputs": [],
   "source": [
    "X_train, X_test, y_train, y_test = train_test_split(X, y, test_size=0.2, random_state=0, shuffle=True)\n"
   ]
  },
  {
   "cell_type": "markdown",
   "metadata": {},
   "source": [
    "# DECISION TREE "
   ]
  },
  {
   "cell_type": "markdown",
   "metadata": {},
   "source": [
    "Tries to find a way to create rules for splitting data, searching for the best threshold for splitting. It goes through each variable to find the optimal threshold and it is keen on 'purity' (for example: 0 on side, 1 on the other). For decision trees, it is more important to evaluate the purity of the branch to RMSE, than accuracy and precision."
   ]
  },
  {
   "cell_type": "code",
   "execution_count": 49,
   "metadata": {},
   "outputs": [
    {
     "name": "stdout",
     "output_type": "stream",
     "text": [
      "DecisionTreeClassifier(criterion='entropy', max_depth=7, max_features=23,\n",
      "                       random_state=42)\n",
      "0.9415478054211508\n"
     ]
    }
   ],
   "source": [
    "from sklearn.tree import DecisionTreeClassifier\n",
    "from sklearn.model_selection import GridSearchCV\n",
    "max_depth = range(1,30)\n",
    "#max_feature = list(range(1,x.shape[1]+1)) \n",
    "max_feature = [1,2,3,4,5,6,7,8,9,10,11,12,13,14,15,16,17,18,19,20,21,22,23,24,25,26,'auto'] \n",
    "\n",
    "criterion=[\"entropy\", \"gini\"]\n",
    "\n",
    "param = {'max_depth':max_depth, \n",
    "         'max_features':max_feature, \n",
    "         'criterion': criterion}\n",
    "grid = GridSearchCV(DecisionTreeClassifier(random_state=42), \n",
    "                                param_grid = param, \n",
    "                                 verbose=False, \n",
    "                                 cv=KFold(n_splits=10, shuffle=True, random_state=42),\n",
    "                                n_jobs = -1)\n",
    "grid.fit(X_train, y_train) \n",
    "\n",
    "\n",
    "print(grid.best_estimator_)\n",
    "print(grid.best_score_)\n"
   ]
  },
  {
   "cell_type": "markdown",
   "metadata": {},
   "source": [
    "Configuration of the model, it should be set before the model"
   ]
  },
  {
   "cell_type": "code",
   "execution_count": 50,
   "metadata": {},
   "outputs": [
    {
     "data": {
      "text/plain": [
       "{'ccp_alpha': 0.0,\n",
       " 'class_weight': None,\n",
       " 'criterion': 'gini',\n",
       " 'max_depth': None,\n",
       " 'max_features': None,\n",
       " 'max_leaf_nodes': None,\n",
       " 'min_impurity_decrease': 0.0,\n",
       " 'min_impurity_split': None,\n",
       " 'min_samples_leaf': 1,\n",
       " 'min_samples_split': 2,\n",
       " 'min_weight_fraction_leaf': 0.0,\n",
       " 'presort': 'deprecated',\n",
       " 'random_state': None,\n",
       " 'splitter': 'best'}"
      ]
     },
     "execution_count": 50,
     "metadata": {},
     "output_type": "execute_result"
    }
   ],
   "source": [
    "DecisionTreeClassifier().get_params()"
   ]
  },
  {
   "cell_type": "code",
   "execution_count": 51,
   "metadata": {},
   "outputs": [
    {
     "name": "stdout",
     "output_type": "stream",
     "text": [
      "Decision tree accuracy score (train) is 94.4\n",
      "Decision tree accuracy score (test) is 93.9\n"
     ]
    }
   ],
   "source": [
    "\n",
    "#decision_tree = DecisionTreeClassifier()\n",
    "decision_tree = grid.best_estimator_\n",
    "decision_tree.fit(X_train, y_train)\n",
    "y_pred = decision_tree.predict(X_test).astype(int)\n",
    "acc_train = round(decision_tree.score(X_train, y_train) * 100, 2)\n",
    "print(\"Decision tree accuracy score (train) is {}\".format(acc_train))\n",
    "print (\"Decision tree accuracy score (test) is {}\".format(round(accuracy_score(y_test,y_pred)*100,2)))\n"
   ]
  },
  {
   "cell_type": "code",
   "execution_count": 52,
   "metadata": {},
   "outputs": [
    {
     "name": "stdout",
     "output_type": "stream",
     "text": [
      "\n",
      "\n",
      "Root Mean Squared Error on train set: 0.23668429781072947\n",
      "Root Mean Squared Error on test set: 0.24690036953658495\n"
     ]
    }
   ],
   "source": [
    "#Decision tree RMSE \n",
    "\n",
    "y_train_predicted = decision_tree.predict(X_train)\n",
    "RMSE_train = np.sqrt(metrics.mean_squared_error(y_train, y_train_predicted))\n",
    "y_test_predicted = decision_tree.predict(X_test)\n",
    "RMSE_test = np.sqrt(metrics.mean_squared_error(y_test, y_test_predicted))\n",
    "\n",
    "print('\\n\\nRoot Mean Squared Error on train set:', RMSE_train)\n",
    "print('Root Mean Squared Error on test set:', RMSE_test)\n"
   ]
  },
  {
   "cell_type": "markdown",
   "metadata": {},
   "source": [
    "On train set, we get around 23.67% chance of error\n",
    "On test set, we get arround 24.67% chance of error"
   ]
  },
  {
   "cell_type": "code",
   "execution_count": 53,
   "metadata": {},
   "outputs": [
    {
     "data": {
      "text/html": [
       "<div>\n",
       "<style scoped>\n",
       "    .dataframe tbody tr th:only-of-type {\n",
       "        vertical-align: middle;\n",
       "    }\n",
       "\n",
       "    .dataframe tbody tr th {\n",
       "        vertical-align: top;\n",
       "    }\n",
       "\n",
       "    .dataframe thead th {\n",
       "        text-align: right;\n",
       "    }\n",
       "</style>\n",
       "<table border=\"1\" class=\"dataframe\">\n",
       "  <thead>\n",
       "    <tr style=\"text-align: right;\">\n",
       "      <th></th>\n",
       "      <th>True</th>\n",
       "      <th>Predicted</th>\n",
       "    </tr>\n",
       "  </thead>\n",
       "  <tbody>\n",
       "    <tr>\n",
       "      <th>0</th>\n",
       "      <td>0</td>\n",
       "      <td>0</td>\n",
       "    </tr>\n",
       "    <tr>\n",
       "      <th>1</th>\n",
       "      <td>0</td>\n",
       "      <td>0</td>\n",
       "    </tr>\n",
       "    <tr>\n",
       "      <th>2</th>\n",
       "      <td>0</td>\n",
       "      <td>0</td>\n",
       "    </tr>\n",
       "    <tr>\n",
       "      <th>3</th>\n",
       "      <td>0</td>\n",
       "      <td>0</td>\n",
       "    </tr>\n",
       "    <tr>\n",
       "      <th>4</th>\n",
       "      <td>0</td>\n",
       "      <td>0</td>\n",
       "    </tr>\n",
       "    <tr>\n",
       "      <th>...</th>\n",
       "      <td>...</td>\n",
       "      <td>...</td>\n",
       "    </tr>\n",
       "    <tr>\n",
       "      <th>12330</th>\n",
       "      <td>0</td>\n",
       "      <td>0</td>\n",
       "    </tr>\n",
       "    <tr>\n",
       "      <th>12331</th>\n",
       "      <td>0</td>\n",
       "      <td>0</td>\n",
       "    </tr>\n",
       "    <tr>\n",
       "      <th>12332</th>\n",
       "      <td>0</td>\n",
       "      <td>0</td>\n",
       "    </tr>\n",
       "    <tr>\n",
       "      <th>12333</th>\n",
       "      <td>0</td>\n",
       "      <td>0</td>\n",
       "    </tr>\n",
       "    <tr>\n",
       "      <th>12334</th>\n",
       "      <td>0</td>\n",
       "      <td>0</td>\n",
       "    </tr>\n",
       "  </tbody>\n",
       "</table>\n",
       "<p>12335 rows × 2 columns</p>\n",
       "</div>"
      ],
      "text/plain": [
       "       True  Predicted\n",
       "0         0          0\n",
       "1         0          0\n",
       "2         0          0\n",
       "3         0          0\n",
       "4         0          0\n",
       "...     ...        ...\n",
       "12330     0          0\n",
       "12331     0          0\n",
       "12332     0          0\n",
       "12333     0          0\n",
       "12334     0          0\n",
       "\n",
       "[12335 rows x 2 columns]"
      ]
     },
     "execution_count": 53,
     "metadata": {},
     "output_type": "execute_result"
    }
   ],
   "source": [
    "# Predicted values\n",
    "\n",
    "pd.DataFrame({'True': y_train.values.flatten(), 'Predicted': y_train_predicted.flatten()})"
   ]
  },
  {
   "cell_type": "code",
   "execution_count": 54,
   "metadata": {},
   "outputs": [
    {
     "data": {
      "text/html": [
       "<div>\n",
       "<style scoped>\n",
       "    .dataframe tbody tr th:only-of-type {\n",
       "        vertical-align: middle;\n",
       "    }\n",
       "\n",
       "    .dataframe tbody tr th {\n",
       "        vertical-align: top;\n",
       "    }\n",
       "\n",
       "    .dataframe thead th {\n",
       "        text-align: right;\n",
       "    }\n",
       "</style>\n",
       "<table border=\"1\" class=\"dataframe\">\n",
       "  <thead>\n",
       "    <tr style=\"text-align: right;\">\n",
       "      <th></th>\n",
       "      <th>Variable</th>\n",
       "      <th>Importance</th>\n",
       "    </tr>\n",
       "  </thead>\n",
       "  <tbody>\n",
       "    <tr>\n",
       "      <th>69</th>\n",
       "      <td>VehicleCategory_Sport</td>\n",
       "      <td>0.260713</td>\n",
       "    </tr>\n",
       "    <tr>\n",
       "      <th>5</th>\n",
       "      <td>Fault</td>\n",
       "      <td>0.203491</td>\n",
       "    </tr>\n",
       "    <tr>\n",
       "      <th>6</th>\n",
       "      <td>Deductible</td>\n",
       "      <td>0.197537</td>\n",
       "    </tr>\n",
       "    <tr>\n",
       "      <th>86</th>\n",
       "      <td>BasePolicy_Collision</td>\n",
       "      <td>0.138660</td>\n",
       "    </tr>\n",
       "    <tr>\n",
       "      <th>4</th>\n",
       "      <td>Age</td>\n",
       "      <td>0.062712</td>\n",
       "    </tr>\n",
       "    <tr>\n",
       "      <th>...</th>\n",
       "      <td>...</td>\n",
       "      <td>...</td>\n",
       "    </tr>\n",
       "    <tr>\n",
       "      <th>54</th>\n",
       "      <td>AgeOfVehicle_6 years</td>\n",
       "      <td>0.000000</td>\n",
       "    </tr>\n",
       "    <tr>\n",
       "      <th>55</th>\n",
       "      <td>AgeOfVehicle_7 years</td>\n",
       "      <td>0.000000</td>\n",
       "    </tr>\n",
       "    <tr>\n",
       "      <th>56</th>\n",
       "      <td>AgeOfVehicle_more than 7</td>\n",
       "      <td>0.000000</td>\n",
       "    </tr>\n",
       "    <tr>\n",
       "      <th>57</th>\n",
       "      <td>AgeOfVehicle_new</td>\n",
       "      <td>0.000000</td>\n",
       "    </tr>\n",
       "    <tr>\n",
       "      <th>90</th>\n",
       "      <td>MaritalStatus_Widow</td>\n",
       "      <td>0.000000</td>\n",
       "    </tr>\n",
       "  </tbody>\n",
       "</table>\n",
       "<p>91 rows × 2 columns</p>\n",
       "</div>"
      ],
      "text/plain": [
       "                    Variable  Importance\n",
       "69     VehicleCategory_Sport    0.260713\n",
       "5                      Fault    0.203491\n",
       "6                 Deductible    0.197537\n",
       "86      BasePolicy_Collision    0.138660\n",
       "4                        Age    0.062712\n",
       "..                       ...         ...\n",
       "54      AgeOfVehicle_6 years    0.000000\n",
       "55      AgeOfVehicle_7 years    0.000000\n",
       "56  AgeOfVehicle_more than 7    0.000000\n",
       "57          AgeOfVehicle_new    0.000000\n",
       "90       MaritalStatus_Widow    0.000000\n",
       "\n",
       "[91 rows x 2 columns]"
      ]
     },
     "metadata": {},
     "output_type": "display_data"
    }
   ],
   "source": [
    "# get features importance\n",
    "\n",
    "feat_importance = pd.DataFrame({'Variable': X.columns, 'Importance': decision_tree.feature_importances_}).sort_values(by=['Importance'], ascending=False)\n",
    "display(feat_importance)\n"
   ]
  },
  {
   "cell_type": "code",
   "execution_count": 55,
   "metadata": {},
   "outputs": [
    {
     "data": {
      "image/png": "[encoded data removed]",
      "text/plain": [
       "<Figure size 2160x720 with 1 Axes>"
      ]
     },
     "metadata": {
      "needs_background": "light"
     },
     "output_type": "display_data"
    }
   ],
   "source": [
    "#Plot the tree\n",
    "from sklearn import tree\n",
    "\n",
    "fig = plt.figure(figsize=(30,10))\n",
    "_ = tree.plot_tree(decision_tree, \n",
    "                   feature_names=X.columns,  \n",
    "                   filled=True)\n",
    "fig.savefig(\"decistion_tree.png\")\n",
    "\n",
    "\n"
   ]
  },
  {
   "cell_type": "code",
   "execution_count": 56,
   "metadata": {},
   "outputs": [
    {
     "name": "stdout",
     "output_type": "stream",
     "text": [
      "Confusion matrix, without normalization\n",
      "[[11595     7]\n",
      " [  684    49]]\n"
     ]
    },
    {
     "data": {
      "image/png": "[encoded data removed]",
      "text/plain": [
       "<Figure size 432x288 with 2 Axes>"
      ]
     },
     "metadata": {
      "needs_background": "light"
     },
     "output_type": "display_data"
    }
   ],
   "source": [
    "# evaluate confusion matrix for TRAIN SET\n",
    "\n",
    "from sklearn.metrics import confusion_matrix\n",
    "from sklearn.utils.multiclass import unique_labels\n",
    "\n",
    "def plot_confusion_matrix(y_true, y_pred,\n",
    "                          normalize=False,\n",
    "                          title=None,\n",
    "                          cmap=plt.cm.Blues):\n",
    "    \"\"\"\n",
    "    This function prints and plots the confusion matrix.\n",
    "    Normalization can be applied by setting `normalize=True`.\n",
    "    \"\"\"\n",
    "    if not title:\n",
    "        if normalize:\n",
    "            title = 'Normalized confusion matrix'\n",
    "        else:\n",
    "            title = 'Confusion matrix, without normalization'\n",
    "\n",
    "    # Compute confusion matrix\n",
    "    cm = confusion_matrix(y_true, y_pred)\n",
    "    # Only use the labels that appear in the data\n",
    "    classes = ['0', '1']\n",
    "    if normalize:\n",
    "        cm = cm.astype('float') / cm.sum(axis=1)[:, np.newaxis]\n",
    "        print(\"Normalized confusion matrix\")\n",
    "    else:\n",
    "        print('Confusion matrix, without normalization')\n",
    "\n",
    "    print(cm)\n",
    "\n",
    "    fig, ax = plt.subplots()\n",
    "    im = ax.imshow(cm, interpolation='nearest', cmap=cmap)\n",
    "    ax.figure.colorbar(im, ax=ax)\n",
    "    # We want to show all ticks...\n",
    "    ax.set(xticks=np.arange(cm.shape[1]),\n",
    "           yticks=np.arange(cm.shape[0]),\n",
    "           # ... and label them with the respective list entries\n",
    "           xticklabels=classes, yticklabels=classes,\n",
    "           title=title,\n",
    "           ylabel='True label',\n",
    "           xlabel='Predicted label')\n",
    "\n",
    "    # Rotate the tick labels and set their alignment.\n",
    "    plt.setp(ax.get_xticklabels(), rotation=45, ha=\"right\",\n",
    "             rotation_mode=\"anchor\")\n",
    "\n",
    "    # Loop over data dimensions and create text annotations.\n",
    "    fmt = '.2f' if normalize else 'd'\n",
    "    thresh = cm.max() / 2.\n",
    "    for i in range(cm.shape[0]):\n",
    "        for j in range(cm.shape[1]):\n",
    "            ax.text(j, i, format(cm[i, j], fmt),\n",
    "                    ha=\"center\", va=\"center\",\n",
    "                    color=\"white\" if cm[i, j] > thresh else \"black\")\n",
    "    fig.tight_layout()\n",
    "    return ax\n",
    "\n",
    "\n",
    "np.set_printoptions(precision=2)\n",
    "\n",
    "# Plot non-normalized confusion matrix\n",
    "plot_confusion_matrix(y_train, y_train_predicted)\n",
    "plt.show()"
   ]
  },
  {
   "cell_type": "code",
   "execution_count": 57,
   "metadata": {},
   "outputs": [
    {
     "name": "stdout",
     "output_type": "stream",
     "text": [
      "              precision    recall  f1-score   support\n",
      "\n",
      "           0       0.94      1.00      0.97     11602\n",
      "           1       0.88      0.07      0.12       733\n",
      "\n",
      "    accuracy                           0.94     12335\n",
      "   macro avg       0.91      0.53      0.55     12335\n",
      "weighted avg       0.94      0.94      0.92     12335\n",
      "\n"
     ]
    }
   ],
   "source": [
    "# evaluate precision, recall, F1-score on train set\n",
    "from sklearn.metrics import classification_report\n",
    "\n",
    "print(classification_report(y_train, y_train_predicted))"
   ]
  },
  {
   "cell_type": "code",
   "execution_count": 58,
   "metadata": {},
   "outputs": [
    {
     "name": "stdout",
     "output_type": "stream",
     "text": [
      "Confusion matrix, without normalization\n",
      "[[2893    1]\n",
      " [ 187    3]]\n"
     ]
    },
    {
     "data": {
      "image/png": "[encoded data removed]",
      "text/plain": [
       "<Figure size 432x288 with 2 Axes>"
      ]
     },
     "metadata": {
      "needs_background": "light"
     },
     "output_type": "display_data"
    },
    {
     "name": "stdout",
     "output_type": "stream",
     "text": [
      "              precision    recall  f1-score   support\n",
      "\n",
      "           0       0.94      1.00      0.97      2894\n",
      "           1       0.75      0.02      0.03       190\n",
      "\n",
      "    accuracy                           0.94      3084\n",
      "   macro avg       0.84      0.51      0.50      3084\n",
      "weighted avg       0.93      0.94      0.91      3084\n",
      "\n"
     ]
    }
   ],
   "source": [
    "# evaluate performance on test set\n",
    "y_test_predicted = decision_tree.predict(X_test)\n",
    "y_test_predicted_prob = decision_tree.predict_proba(X_test)[:,1]\n",
    "\n",
    "plot_confusion_matrix(y_test, y_test_predicted)\n",
    "plt.show()\n",
    "\n",
    "print(classification_report(y_test, y_test_predicted))\n",
    "\n"
   ]
  },
  {
   "cell_type": "code",
   "execution_count": 59,
   "metadata": {},
   "outputs": [
    {
     "name": "stdout",
     "output_type": "stream",
     "text": [
      "Stats\n",
      "Accuracy: 0.9390402075226978\n",
      "balanced_accuracy: 0.5077219655912414\n",
      "brier_score_loss: 0.0609597924773022\n",
      "f1_score: 0.03092783505154639\n",
      "recall_score: 0.015789473684210527\n",
      "precision_score: 0.75\n",
      "roc_auc_score: 0.5077219655912414\n",
      "True Negatives: 2893\n",
      "False Postives: 1\n",
      "False Negatives: 187\n",
      "True Positive: 3\n",
      "Recall: 0.015789473684210527\n",
      "Precision: 0.75\n",
      "Prevalence: 0.061608300907911806\n"
     ]
    }
   ],
   "source": [
    "y_pred_gini = decision_tree.predict(X_test)\n",
    "\n",
    "print('Stats')\n",
    "print(\"Accuracy:\",metrics.accuracy_score(y_test, y_pred_gini))\n",
    "print(\"balanced_accuracy:\",metrics.balanced_accuracy_score(y_test, y_pred_gini))\n",
    "print(\"brier_score_loss:\",metrics.brier_score_loss(y_test, y_pred_gini))\n",
    "print(\"f1_score:\",metrics.f1_score(y_test,y_pred_gini))\n",
    "print(\"recall_score:\",metrics.recall_score(y_test, y_pred_gini))\n",
    "print(\"precision_score:\",metrics.precision_score(y_test, y_pred_gini))\n",
    "print(\"roc_auc_score:\",metrics.roc_auc_score(y_test, y_pred_gini))\n",
    "\n",
    "\n",
    "\n",
    "precision, recall, thresholds = metrics.precision_recall_curve(y_test, y_pred_gini)\n",
    "\n",
    "#this code plots the confusion matrix of our niave implementation of LOGISTIC REGRESSION\n",
    "\n",
    "\n",
    "tn, fp, fn, tp = metrics.confusion_matrix(y_test, y_pred_gini).ravel()\n",
    "\n",
    "\n",
    "\n",
    "print('True Negatives:', tn)\n",
    "print('False Postives:', fp)\n",
    "print('False Negatives:', fn)\n",
    "print('True Positive:', tp)\n",
    "print('Recall:', tp/(fn+tp))\n",
    "print('Precision:', tp/(fp+tp))\n",
    "print('Prevalence:', (fn+tp)/(tn+fp+fn+tp))"
   ]
  },
  {
   "cell_type": "markdown",
   "metadata": {},
   "source": [
    "# RANDOM FOREST"
   ]
  },
  {
   "cell_type": "code",
   "execution_count": 60,
   "metadata": {
    "scrolled": false
   },
   "outputs": [
    {
     "name": "stdout",
     "output_type": "stream",
     "text": [
      "RandomForestClassifier(n_estimators=400)\n",
      "0.9405757524373619\n"
     ]
    }
   ],
   "source": [
    "#building the model\n",
    "from sklearn.ensemble import RandomForestClassifier\n",
    "rf_grid = GridSearchCV(estimator=RandomForestClassifier(), \n",
    "                             param_grid={'n_estimators': [200, 300, 400, 500]}, \n",
    "                             cv=10)\n",
    "\n",
    "rf_grid.fit(X_train, y_train)\n",
    "print(rf_grid.best_estimator_)\n",
    "print(rf_grid.best_score_)"
   ]
  },
  {
   "cell_type": "code",
   "execution_count": 61,
   "metadata": {},
   "outputs": [
    {
     "name": "stdout",
     "output_type": "stream",
     "text": [
      "Random Forest accuracy score (train) is 100.0\n",
      "Random Forest accuracy score (test) is 93.84\n"
     ]
    }
   ],
   "source": [
    "random_forest = rf_grid.best_estimator_\n",
    "random_forest.fit(X_train, y_train)\n",
    "y_pred = random_forest.predict(X_test).astype(int)\n",
    "acc_train = round(random_forest.score(X_train, y_train) * 100, 2)\n",
    "print(\"Random Forest accuracy score (train) is {}\".format(acc_train))\n",
    "print (\"Random Forest accuracy score (test) is {}\".format(round(accuracy_score(y_test,y_pred)*100,2)))\n"
   ]
  },
  {
   "cell_type": "code",
   "execution_count": 62,
   "metadata": {},
   "outputs": [
    {
     "data": {
      "text/html": [
       "<div>\n",
       "<style scoped>\n",
       "    .dataframe tbody tr th:only-of-type {\n",
       "        vertical-align: middle;\n",
       "    }\n",
       "\n",
       "    .dataframe tbody tr th {\n",
       "        vertical-align: top;\n",
       "    }\n",
       "\n",
       "    .dataframe thead th {\n",
       "        text-align: right;\n",
       "    }\n",
       "</style>\n",
       "<table border=\"1\" class=\"dataframe\">\n",
       "  <thead>\n",
       "    <tr style=\"text-align: right;\">\n",
       "      <th></th>\n",
       "      <th>Variable</th>\n",
       "      <th>Importance</th>\n",
       "    </tr>\n",
       "  </thead>\n",
       "  <tbody>\n",
       "    <tr>\n",
       "      <th>4</th>\n",
       "      <td>Age</td>\n",
       "      <td>0.100169</td>\n",
       "    </tr>\n",
       "    <tr>\n",
       "      <th>0</th>\n",
       "      <td>WeekOfMonth</td>\n",
       "      <td>0.053318</td>\n",
       "    </tr>\n",
       "    <tr>\n",
       "      <th>2</th>\n",
       "      <td>WeekOfMonthClaimed</td>\n",
       "      <td>0.052823</td>\n",
       "    </tr>\n",
       "    <tr>\n",
       "      <th>7</th>\n",
       "      <td>DriverRating</td>\n",
       "      <td>0.050577</td>\n",
       "    </tr>\n",
       "    <tr>\n",
       "      <th>5</th>\n",
       "      <td>Fault</td>\n",
       "      <td>0.029731</td>\n",
       "    </tr>\n",
       "    <tr>\n",
       "      <th>...</th>\n",
       "      <td>...</td>\n",
       "      <td>...</td>\n",
       "    </tr>\n",
       "    <tr>\n",
       "      <th>85</th>\n",
       "      <td>NumberOfCars_more than 8</td>\n",
       "      <td>0.000007</td>\n",
       "    </tr>\n",
       "    <tr>\n",
       "      <th>18</th>\n",
       "      <td>Make_Lexus</td>\n",
       "      <td>0.000006</td>\n",
       "    </tr>\n",
       "    <tr>\n",
       "      <th>24</th>\n",
       "      <td>Make_Porche</td>\n",
       "      <td>0.000004</td>\n",
       "    </tr>\n",
       "    <tr>\n",
       "      <th>17</th>\n",
       "      <td>Make_Jaguar</td>\n",
       "      <td>0.000004</td>\n",
       "    </tr>\n",
       "    <tr>\n",
       "      <th>14</th>\n",
       "      <td>Make_Ferrari</td>\n",
       "      <td>0.000000</td>\n",
       "    </tr>\n",
       "  </tbody>\n",
       "</table>\n",
       "<p>91 rows × 2 columns</p>\n",
       "</div>"
      ],
      "text/plain": [
       "                    Variable  Importance\n",
       "4                        Age    0.100169\n",
       "0                WeekOfMonth    0.053318\n",
       "2         WeekOfMonthClaimed    0.052823\n",
       "7               DriverRating    0.050577\n",
       "5                      Fault    0.029731\n",
       "..                       ...         ...\n",
       "85  NumberOfCars_more than 8    0.000007\n",
       "18                Make_Lexus    0.000006\n",
       "24               Make_Porche    0.000004\n",
       "17               Make_Jaguar    0.000004\n",
       "14              Make_Ferrari    0.000000\n",
       "\n",
       "[91 rows x 2 columns]"
      ]
     },
     "metadata": {},
     "output_type": "display_data"
    }
   ],
   "source": [
    "# get features importance for RANDOM FOREST\n",
    "\n",
    "feat_importance = pd.DataFrame({'Variable': X.columns, 'Importance': random_forest.feature_importances_}).sort_values(by=['Importance'], ascending=False)\n",
    "display(feat_importance)\n"
   ]
  },
  {
   "cell_type": "code",
   "execution_count": 63,
   "metadata": {
    "scrolled": true
   },
   "outputs": [
    {
     "name": "stdout",
     "output_type": "stream",
     "text": [
      "\n",
      "\n",
      "Root Mean Squared Error on train set: 0.0\n",
      "Root Mean Squared Error on test set: 0.2482101950120337\n"
     ]
    }
   ],
   "source": [
    "#Random forest RMSE \n",
    "\n",
    "y_train_predicted = random_forest.predict(X_train)\n",
    "RMSE_train = np.sqrt(metrics.mean_squared_error(y_train, y_train_predicted))\n",
    "y_test_predicted = random_forest.predict(X_test)\n",
    "RMSE_test = np.sqrt(metrics.mean_squared_error(y_test, y_test_predicted))\n",
    "\n",
    "print('\\n\\nRoot Mean Squared Error on train set:', RMSE_train)\n",
    "print('Root Mean Squared Error on test set:', RMSE_test)\n"
   ]
  },
  {
   "cell_type": "code",
   "execution_count": 64,
   "metadata": {},
   "outputs": [
    {
     "data": {
      "text/html": [
       "<div>\n",
       "<style scoped>\n",
       "    .dataframe tbody tr th:only-of-type {\n",
       "        vertical-align: middle;\n",
       "    }\n",
       "\n",
       "    .dataframe tbody tr th {\n",
       "        vertical-align: top;\n",
       "    }\n",
       "\n",
       "    .dataframe thead th {\n",
       "        text-align: right;\n",
       "    }\n",
       "</style>\n",
       "<table border=\"1\" class=\"dataframe\">\n",
       "  <thead>\n",
       "    <tr style=\"text-align: right;\">\n",
       "      <th></th>\n",
       "      <th>True</th>\n",
       "      <th>Predicted</th>\n",
       "    </tr>\n",
       "  </thead>\n",
       "  <tbody>\n",
       "    <tr>\n",
       "      <th>0</th>\n",
       "      <td>0</td>\n",
       "      <td>0</td>\n",
       "    </tr>\n",
       "    <tr>\n",
       "      <th>1</th>\n",
       "      <td>0</td>\n",
       "      <td>0</td>\n",
       "    </tr>\n",
       "    <tr>\n",
       "      <th>2</th>\n",
       "      <td>0</td>\n",
       "      <td>0</td>\n",
       "    </tr>\n",
       "    <tr>\n",
       "      <th>3</th>\n",
       "      <td>0</td>\n",
       "      <td>0</td>\n",
       "    </tr>\n",
       "    <tr>\n",
       "      <th>4</th>\n",
       "      <td>0</td>\n",
       "      <td>0</td>\n",
       "    </tr>\n",
       "    <tr>\n",
       "      <th>...</th>\n",
       "      <td>...</td>\n",
       "      <td>...</td>\n",
       "    </tr>\n",
       "    <tr>\n",
       "      <th>12330</th>\n",
       "      <td>0</td>\n",
       "      <td>0</td>\n",
       "    </tr>\n",
       "    <tr>\n",
       "      <th>12331</th>\n",
       "      <td>0</td>\n",
       "      <td>0</td>\n",
       "    </tr>\n",
       "    <tr>\n",
       "      <th>12332</th>\n",
       "      <td>0</td>\n",
       "      <td>0</td>\n",
       "    </tr>\n",
       "    <tr>\n",
       "      <th>12333</th>\n",
       "      <td>0</td>\n",
       "      <td>0</td>\n",
       "    </tr>\n",
       "    <tr>\n",
       "      <th>12334</th>\n",
       "      <td>0</td>\n",
       "      <td>0</td>\n",
       "    </tr>\n",
       "  </tbody>\n",
       "</table>\n",
       "<p>12335 rows × 2 columns</p>\n",
       "</div>"
      ],
      "text/plain": [
       "       True  Predicted\n",
       "0         0          0\n",
       "1         0          0\n",
       "2         0          0\n",
       "3         0          0\n",
       "4         0          0\n",
       "...     ...        ...\n",
       "12330     0          0\n",
       "12331     0          0\n",
       "12332     0          0\n",
       "12333     0          0\n",
       "12334     0          0\n",
       "\n",
       "[12335 rows x 2 columns]"
      ]
     },
     "execution_count": 64,
     "metadata": {},
     "output_type": "execute_result"
    }
   ],
   "source": [
    "# predicted values \n",
    "\n",
    "pd.DataFrame({'True': y_train.values.flatten(), 'Predicted': y_train_predicted.flatten()})"
   ]
  },
  {
   "cell_type": "code",
   "execution_count": 65,
   "metadata": {},
   "outputs": [
    {
     "data": {
      "text/plain": [
       "[DecisionTreeClassifier(max_features='auto', random_state=372370418),\n",
       " DecisionTreeClassifier(max_features='auto', random_state=45712329),\n",
       " DecisionTreeClassifier(max_features='auto', random_state=85122961),\n",
       " DecisionTreeClassifier(max_features='auto', random_state=1116124746),\n",
       " DecisionTreeClassifier(max_features='auto', random_state=1479134715),\n",
       " DecisionTreeClassifier(max_features='auto', random_state=1013525810),\n",
       " DecisionTreeClassifier(max_features='auto', random_state=1099503953),\n",
       " DecisionTreeClassifier(max_features='auto', random_state=933687601),\n",
       " DecisionTreeClassifier(max_features='auto', random_state=1519911099),\n",
       " DecisionTreeClassifier(max_features='auto', random_state=383158726),\n",
       " DecisionTreeClassifier(max_features='auto', random_state=977433513),\n",
       " DecisionTreeClassifier(max_features='auto', random_state=562517580),\n",
       " DecisionTreeClassifier(max_features='auto', random_state=809513004),\n",
       " DecisionTreeClassifier(max_features='auto', random_state=1137299728),\n",
       " DecisionTreeClassifier(max_features='auto', random_state=624206963),\n",
       " DecisionTreeClassifier(max_features='auto', random_state=986774788),\n",
       " DecisionTreeClassifier(max_features='auto', random_state=143733065),\n",
       " DecisionTreeClassifier(max_features='auto', random_state=894020360),\n",
       " DecisionTreeClassifier(max_features='auto', random_state=910748624),\n",
       " DecisionTreeClassifier(max_features='auto', random_state=1099434505),\n",
       " DecisionTreeClassifier(max_features='auto', random_state=46589722),\n",
       " DecisionTreeClassifier(max_features='auto', random_state=433841677),\n",
       " DecisionTreeClassifier(max_features='auto', random_state=644474249),\n",
       " DecisionTreeClassifier(max_features='auto', random_state=266314082),\n",
       " DecisionTreeClassifier(max_features='auto', random_state=1151632199),\n",
       " DecisionTreeClassifier(max_features='auto', random_state=425494414),\n",
       " DecisionTreeClassifier(max_features='auto', random_state=301991769),\n",
       " DecisionTreeClassifier(max_features='auto', random_state=550904862),\n",
       " DecisionTreeClassifier(max_features='auto', random_state=1107632958),\n",
       " DecisionTreeClassifier(max_features='auto', random_state=1039417621),\n",
       " DecisionTreeClassifier(max_features='auto', random_state=1237619579),\n",
       " DecisionTreeClassifier(max_features='auto', random_state=1088041069),\n",
       " DecisionTreeClassifier(max_features='auto', random_state=723550913),\n",
       " DecisionTreeClassifier(max_features='auto', random_state=564054280),\n",
       " DecisionTreeClassifier(max_features='auto', random_state=909094303),\n",
       " DecisionTreeClassifier(max_features='auto', random_state=1804808315),\n",
       " DecisionTreeClassifier(max_features='auto', random_state=272855908),\n",
       " DecisionTreeClassifier(max_features='auto', random_state=1029242726),\n",
       " DecisionTreeClassifier(max_features='auto', random_state=1563317481),\n",
       " DecisionTreeClassifier(max_features='auto', random_state=692106719),\n",
       " DecisionTreeClassifier(max_features='auto', random_state=1424029091),\n",
       " DecisionTreeClassifier(max_features='auto', random_state=1533721022),\n",
       " DecisionTreeClassifier(max_features='auto', random_state=988858912),\n",
       " DecisionTreeClassifier(max_features='auto', random_state=1607622652),\n",
       " DecisionTreeClassifier(max_features='auto', random_state=1400641285),\n",
       " DecisionTreeClassifier(max_features='auto', random_state=889827943),\n",
       " DecisionTreeClassifier(max_features='auto', random_state=358814174),\n",
       " DecisionTreeClassifier(max_features='auto', random_state=1396935791),\n",
       " DecisionTreeClassifier(max_features='auto', random_state=596061892),\n",
       " DecisionTreeClassifier(max_features='auto', random_state=618305325),\n",
       " DecisionTreeClassifier(max_features='auto', random_state=1245371975),\n",
       " DecisionTreeClassifier(max_features='auto', random_state=899304800),\n",
       " DecisionTreeClassifier(max_features='auto', random_state=795175102),\n",
       " DecisionTreeClassifier(max_features='auto', random_state=90969961),\n",
       " DecisionTreeClassifier(max_features='auto', random_state=1915117285),\n",
       " DecisionTreeClassifier(max_features='auto', random_state=188606046),\n",
       " DecisionTreeClassifier(max_features='auto', random_state=727680423),\n",
       " DecisionTreeClassifier(max_features='auto', random_state=1463731855),\n",
       " DecisionTreeClassifier(max_features='auto', random_state=1681654040),\n",
       " DecisionTreeClassifier(max_features='auto', random_state=1383454350),\n",
       " DecisionTreeClassifier(max_features='auto', random_state=400773257),\n",
       " DecisionTreeClassifier(max_features='auto', random_state=1597555569),\n",
       " DecisionTreeClassifier(max_features='auto', random_state=738721562),\n",
       " DecisionTreeClassifier(max_features='auto', random_state=1056121897),\n",
       " DecisionTreeClassifier(max_features='auto', random_state=134066898),\n",
       " DecisionTreeClassifier(max_features='auto', random_state=1197263197),\n",
       " DecisionTreeClassifier(max_features='auto', random_state=233503179),\n",
       " DecisionTreeClassifier(max_features='auto', random_state=849566386),\n",
       " DecisionTreeClassifier(max_features='auto', random_state=356935613),\n",
       " DecisionTreeClassifier(max_features='auto', random_state=1378062293),\n",
       " DecisionTreeClassifier(max_features='auto', random_state=1325405553),\n",
       " DecisionTreeClassifier(max_features='auto', random_state=632846532),\n",
       " DecisionTreeClassifier(max_features='auto', random_state=874028106),\n",
       " DecisionTreeClassifier(max_features='auto', random_state=1633670183),\n",
       " DecisionTreeClassifier(max_features='auto', random_state=1170625355),\n",
       " DecisionTreeClassifier(max_features='auto', random_state=1945092283),\n",
       " DecisionTreeClassifier(max_features='auto', random_state=542024292),\n",
       " DecisionTreeClassifier(max_features='auto', random_state=884392979),\n",
       " DecisionTreeClassifier(max_features='auto', random_state=524434765),\n",
       " DecisionTreeClassifier(max_features='auto', random_state=336924932),\n",
       " DecisionTreeClassifier(max_features='auto', random_state=882189398),\n",
       " DecisionTreeClassifier(max_features='auto', random_state=25040225),\n",
       " DecisionTreeClassifier(max_features='auto', random_state=116566989),\n",
       " DecisionTreeClassifier(max_features='auto', random_state=773522799),\n",
       " DecisionTreeClassifier(max_features='auto', random_state=1624541187),\n",
       " DecisionTreeClassifier(max_features='auto', random_state=1612576904),\n",
       " DecisionTreeClassifier(max_features='auto', random_state=1590692573),\n",
       " DecisionTreeClassifier(max_features='auto', random_state=1462675345),\n",
       " DecisionTreeClassifier(max_features='auto', random_state=595945995),\n",
       " DecisionTreeClassifier(max_features='auto', random_state=56778972),\n",
       " DecisionTreeClassifier(max_features='auto', random_state=1019751402),\n",
       " DecisionTreeClassifier(max_features='auto', random_state=634626226),\n",
       " DecisionTreeClassifier(max_features='auto', random_state=633323445),\n",
       " DecisionTreeClassifier(max_features='auto', random_state=1391992228),\n",
       " DecisionTreeClassifier(max_features='auto', random_state=2050309543),\n",
       " DecisionTreeClassifier(max_features='auto', random_state=1500319354),\n",
       " DecisionTreeClassifier(max_features='auto', random_state=1416604672),\n",
       " DecisionTreeClassifier(max_features='auto', random_state=692519787),\n",
       " DecisionTreeClassifier(max_features='auto', random_state=28564017),\n",
       " DecisionTreeClassifier(max_features='auto', random_state=1376600774),\n",
       " DecisionTreeClassifier(max_features='auto', random_state=1855873060),\n",
       " DecisionTreeClassifier(max_features='auto', random_state=1297468201),\n",
       " DecisionTreeClassifier(max_features='auto', random_state=972777316),\n",
       " DecisionTreeClassifier(max_features='auto', random_state=179928958),\n",
       " DecisionTreeClassifier(max_features='auto', random_state=210736327),\n",
       " DecisionTreeClassifier(max_features='auto', random_state=20458967),\n",
       " DecisionTreeClassifier(max_features='auto', random_state=1480631442),\n",
       " DecisionTreeClassifier(max_features='auto', random_state=1985554277),\n",
       " DecisionTreeClassifier(max_features='auto', random_state=592317904),\n",
       " DecisionTreeClassifier(max_features='auto', random_state=1872470751),\n",
       " DecisionTreeClassifier(max_features='auto', random_state=974335398),\n",
       " DecisionTreeClassifier(max_features='auto', random_state=1672077487),\n",
       " DecisionTreeClassifier(max_features='auto', random_state=1769344911),\n",
       " DecisionTreeClassifier(max_features='auto', random_state=168543847),\n",
       " DecisionTreeClassifier(max_features='auto', random_state=2050952996),\n",
       " DecisionTreeClassifier(max_features='auto', random_state=257114994),\n",
       " DecisionTreeClassifier(max_features='auto', random_state=1820236337),\n",
       " DecisionTreeClassifier(max_features='auto', random_state=808983936),\n",
       " DecisionTreeClassifier(max_features='auto', random_state=522537661),\n",
       " DecisionTreeClassifier(max_features='auto', random_state=582020915),\n",
       " DecisionTreeClassifier(max_features='auto', random_state=1772794559),\n",
       " DecisionTreeClassifier(max_features='auto', random_state=2006350184),\n",
       " DecisionTreeClassifier(max_features='auto', random_state=1964530012),\n",
       " DecisionTreeClassifier(max_features='auto', random_state=561549534),\n",
       " DecisionTreeClassifier(max_features='auto', random_state=1817660726),\n",
       " DecisionTreeClassifier(max_features='auto', random_state=532811503),\n",
       " DecisionTreeClassifier(max_features='auto', random_state=1444634100),\n",
       " DecisionTreeClassifier(max_features='auto', random_state=512223422),\n",
       " DecisionTreeClassifier(max_features='auto', random_state=406274176),\n",
       " DecisionTreeClassifier(max_features='auto', random_state=1837360407),\n",
       " DecisionTreeClassifier(max_features='auto', random_state=26655799),\n",
       " DecisionTreeClassifier(max_features='auto', random_state=1908505477),\n",
       " DecisionTreeClassifier(max_features='auto', random_state=388613299),\n",
       " DecisionTreeClassifier(max_features='auto', random_state=600835759),\n",
       " DecisionTreeClassifier(max_features='auto', random_state=776294715),\n",
       " DecisionTreeClassifier(max_features='auto', random_state=622334372),\n",
       " DecisionTreeClassifier(max_features='auto', random_state=222554251),\n",
       " DecisionTreeClassifier(max_features='auto', random_state=1419012483),\n",
       " DecisionTreeClassifier(max_features='auto', random_state=1059583900),\n",
       " DecisionTreeClassifier(max_features='auto', random_state=997834425),\n",
       " DecisionTreeClassifier(max_features='auto', random_state=1365153043),\n",
       " DecisionTreeClassifier(max_features='auto', random_state=1936192337),\n",
       " DecisionTreeClassifier(max_features='auto', random_state=1047627816),\n",
       " DecisionTreeClassifier(max_features='auto', random_state=1203143232),\n",
       " DecisionTreeClassifier(max_features='auto', random_state=1559655745),\n",
       " DecisionTreeClassifier(max_features='auto', random_state=623433714),\n",
       " DecisionTreeClassifier(max_features='auto', random_state=806136224),\n",
       " DecisionTreeClassifier(max_features='auto', random_state=118228191),\n",
       " DecisionTreeClassifier(max_features='auto', random_state=1315244848),\n",
       " DecisionTreeClassifier(max_features='auto', random_state=379980829),\n",
       " DecisionTreeClassifier(max_features='auto', random_state=46414872),\n",
       " DecisionTreeClassifier(max_features='auto', random_state=599884501),\n",
       " DecisionTreeClassifier(max_features='auto', random_state=443051250),\n",
       " DecisionTreeClassifier(max_features='auto', random_state=687352876),\n",
       " DecisionTreeClassifier(max_features='auto', random_state=1556075383),\n",
       " DecisionTreeClassifier(max_features='auto', random_state=1639750852),\n",
       " DecisionTreeClassifier(max_features='auto', random_state=1592144917),\n",
       " DecisionTreeClassifier(max_features='auto', random_state=773148272),\n",
       " DecisionTreeClassifier(max_features='auto', random_state=2082356449),\n",
       " DecisionTreeClassifier(max_features='auto', random_state=1815399673),\n",
       " DecisionTreeClassifier(max_features='auto', random_state=1379795792),\n",
       " DecisionTreeClassifier(max_features='auto', random_state=167688837),\n",
       " DecisionTreeClassifier(max_features='auto', random_state=665443233),\n",
       " DecisionTreeClassifier(max_features='auto', random_state=1443253728),\n",
       " DecisionTreeClassifier(max_features='auto', random_state=783360379),\n",
       " DecisionTreeClassifier(max_features='auto', random_state=1620587775),\n",
       " DecisionTreeClassifier(max_features='auto', random_state=376748880),\n",
       " DecisionTreeClassifier(max_features='auto', random_state=885790049),\n",
       " DecisionTreeClassifier(max_features='auto', random_state=959798400),\n",
       " DecisionTreeClassifier(max_features='auto', random_state=1215308854),\n",
       " DecisionTreeClassifier(max_features='auto', random_state=1019912484),\n",
       " DecisionTreeClassifier(max_features='auto', random_state=1465022384),\n",
       " DecisionTreeClassifier(max_features='auto', random_state=1334935802),\n",
       " DecisionTreeClassifier(max_features='auto', random_state=1685191366),\n",
       " DecisionTreeClassifier(max_features='auto', random_state=1872249574),\n",
       " DecisionTreeClassifier(max_features='auto', random_state=1772809648),\n",
       " DecisionTreeClassifier(max_features='auto', random_state=142208032),\n",
       " DecisionTreeClassifier(max_features='auto', random_state=2017023797),\n",
       " DecisionTreeClassifier(max_features='auto', random_state=572722257),\n",
       " DecisionTreeClassifier(max_features='auto', random_state=925616596),\n",
       " DecisionTreeClassifier(max_features='auto', random_state=2049759750),\n",
       " DecisionTreeClassifier(max_features='auto', random_state=897866980),\n",
       " DecisionTreeClassifier(max_features='auto', random_state=1596484473),\n",
       " DecisionTreeClassifier(max_features='auto', random_state=142367801),\n",
       " DecisionTreeClassifier(max_features='auto', random_state=557141336),\n",
       " DecisionTreeClassifier(max_features='auto', random_state=1067106741),\n",
       " DecisionTreeClassifier(max_features='auto', random_state=1054636313),\n",
       " DecisionTreeClassifier(max_features='auto', random_state=964482155),\n",
       " DecisionTreeClassifier(max_features='auto', random_state=1583044554),\n",
       " DecisionTreeClassifier(max_features='auto', random_state=1886164763),\n",
       " DecisionTreeClassifier(max_features='auto', random_state=1937747485),\n",
       " DecisionTreeClassifier(max_features='auto', random_state=1631969314),\n",
       " DecisionTreeClassifier(max_features='auto', random_state=711528354),\n",
       " DecisionTreeClassifier(max_features='auto', random_state=58840919),\n",
       " DecisionTreeClassifier(max_features='auto', random_state=470645295),\n",
       " DecisionTreeClassifier(max_features='auto', random_state=2008713432),\n",
       " DecisionTreeClassifier(max_features='auto', random_state=1763858365),\n",
       " DecisionTreeClassifier(max_features='auto', random_state=907125948),\n",
       " DecisionTreeClassifier(max_features='auto', random_state=1452203719),\n",
       " DecisionTreeClassifier(max_features='auto', random_state=802258656),\n",
       " DecisionTreeClassifier(max_features='auto', random_state=1288233647),\n",
       " DecisionTreeClassifier(max_features='auto', random_state=1313028592),\n",
       " DecisionTreeClassifier(max_features='auto', random_state=98996774),\n",
       " DecisionTreeClassifier(max_features='auto', random_state=1216659232),\n",
       " DecisionTreeClassifier(max_features='auto', random_state=1894525651),\n",
       " DecisionTreeClassifier(max_features='auto', random_state=1122133421),\n",
       " DecisionTreeClassifier(max_features='auto', random_state=430728530),\n",
       " DecisionTreeClassifier(max_features='auto', random_state=135512404),\n",
       " DecisionTreeClassifier(max_features='auto', random_state=432717328),\n",
       " DecisionTreeClassifier(max_features='auto', random_state=2001507405),\n",
       " DecisionTreeClassifier(max_features='auto', random_state=736187967),\n",
       " DecisionTreeClassifier(max_features='auto', random_state=1376848995),\n",
       " DecisionTreeClassifier(max_features='auto', random_state=2014713752),\n",
       " DecisionTreeClassifier(max_features='auto', random_state=1375577602),\n",
       " DecisionTreeClassifier(max_features='auto', random_state=1200309178),\n",
       " DecisionTreeClassifier(max_features='auto', random_state=1092070705),\n",
       " DecisionTreeClassifier(max_features='auto', random_state=1360435655),\n",
       " DecisionTreeClassifier(max_features='auto', random_state=1887201068),\n",
       " DecisionTreeClassifier(max_features='auto', random_state=257610547),\n",
       " DecisionTreeClassifier(max_features='auto', random_state=1966080165),\n",
       " DecisionTreeClassifier(max_features='auto', random_state=3125786),\n",
       " DecisionTreeClassifier(max_features='auto', random_state=704475880),\n",
       " DecisionTreeClassifier(max_features='auto', random_state=1036248435),\n",
       " DecisionTreeClassifier(max_features='auto', random_state=1375651985),\n",
       " DecisionTreeClassifier(max_features='auto', random_state=327318786),\n",
       " DecisionTreeClassifier(max_features='auto', random_state=1019075115),\n",
       " DecisionTreeClassifier(max_features='auto', random_state=225820735),\n",
       " DecisionTreeClassifier(max_features='auto', random_state=419888704),\n",
       " DecisionTreeClassifier(max_features='auto', random_state=1330836323),\n",
       " DecisionTreeClassifier(max_features='auto', random_state=1334768826),\n",
       " DecisionTreeClassifier(max_features='auto', random_state=591304294),\n",
       " DecisionTreeClassifier(max_features='auto', random_state=990046349),\n",
       " DecisionTreeClassifier(max_features='auto', random_state=1470353893),\n",
       " DecisionTreeClassifier(max_features='auto', random_state=1440348538),\n",
       " DecisionTreeClassifier(max_features='auto', random_state=1922368907),\n",
       " DecisionTreeClassifier(max_features='auto', random_state=258948405),\n",
       " DecisionTreeClassifier(max_features='auto', random_state=659275823),\n",
       " DecisionTreeClassifier(max_features='auto', random_state=1791396237),\n",
       " DecisionTreeClassifier(max_features='auto', random_state=481444519),\n",
       " DecisionTreeClassifier(max_features='auto', random_state=544313308),\n",
       " DecisionTreeClassifier(max_features='auto', random_state=1410612496),\n",
       " DecisionTreeClassifier(max_features='auto', random_state=42919819),\n",
       " DecisionTreeClassifier(max_features='auto', random_state=1582779191),\n",
       " DecisionTreeClassifier(max_features='auto', random_state=1957207298),\n",
       " DecisionTreeClassifier(max_features='auto', random_state=389678624),\n",
       " DecisionTreeClassifier(max_features='auto', random_state=1951495318),\n",
       " DecisionTreeClassifier(max_features='auto', random_state=1717236178),\n",
       " DecisionTreeClassifier(max_features='auto', random_state=624516726),\n",
       " DecisionTreeClassifier(max_features='auto', random_state=528483912),\n",
       " DecisionTreeClassifier(max_features='auto', random_state=426748158),\n",
       " DecisionTreeClassifier(max_features='auto', random_state=775655569),\n",
       " DecisionTreeClassifier(max_features='auto', random_state=2103392859),\n",
       " DecisionTreeClassifier(max_features='auto', random_state=767802364),\n",
       " DecisionTreeClassifier(max_features='auto', random_state=1779305244),\n",
       " DecisionTreeClassifier(max_features='auto', random_state=2110709962),\n",
       " DecisionTreeClassifier(max_features='auto', random_state=1066896686),\n",
       " DecisionTreeClassifier(max_features='auto', random_state=1684570142),\n",
       " DecisionTreeClassifier(max_features='auto', random_state=377982097),\n",
       " DecisionTreeClassifier(max_features='auto', random_state=626589215),\n",
       " DecisionTreeClassifier(max_features='auto', random_state=492497164),\n",
       " DecisionTreeClassifier(max_features='auto', random_state=1673878989),\n",
       " DecisionTreeClassifier(max_features='auto', random_state=1126347697),\n",
       " DecisionTreeClassifier(max_features='auto', random_state=907810192),\n",
       " DecisionTreeClassifier(max_features='auto', random_state=1319452028),\n",
       " DecisionTreeClassifier(max_features='auto', random_state=1748635772),\n",
       " DecisionTreeClassifier(max_features='auto', random_state=445647884),\n",
       " DecisionTreeClassifier(max_features='auto', random_state=408575655),\n",
       " DecisionTreeClassifier(max_features='auto', random_state=822447736),\n",
       " DecisionTreeClassifier(max_features='auto', random_state=1377601371),\n",
       " DecisionTreeClassifier(max_features='auto', random_state=1083564031),\n",
       " DecisionTreeClassifier(max_features='auto', random_state=1624899455),\n",
       " DecisionTreeClassifier(max_features='auto', random_state=1843283815),\n",
       " DecisionTreeClassifier(max_features='auto', random_state=447248072),\n",
       " DecisionTreeClassifier(max_features='auto', random_state=662405116),\n",
       " DecisionTreeClassifier(max_features='auto', random_state=1056111313),\n",
       " DecisionTreeClassifier(max_features='auto', random_state=1075481143),\n",
       " DecisionTreeClassifier(max_features='auto', random_state=910411060),\n",
       " DecisionTreeClassifier(max_features='auto', random_state=754607400),\n",
       " DecisionTreeClassifier(max_features='auto', random_state=1070593531),\n",
       " DecisionTreeClassifier(max_features='auto', random_state=305938228),\n",
       " DecisionTreeClassifier(max_features='auto', random_state=2002231256),\n",
       " DecisionTreeClassifier(max_features='auto', random_state=1107659928),\n",
       " DecisionTreeClassifier(max_features='auto', random_state=1712446409),\n",
       " DecisionTreeClassifier(max_features='auto', random_state=330922657),\n",
       " DecisionTreeClassifier(max_features='auto', random_state=1196369480),\n",
       " DecisionTreeClassifier(max_features='auto', random_state=871381824),\n",
       " DecisionTreeClassifier(max_features='auto', random_state=125890306),\n",
       " DecisionTreeClassifier(max_features='auto', random_state=2105680281),\n",
       " DecisionTreeClassifier(max_features='auto', random_state=615897848),\n",
       " DecisionTreeClassifier(max_features='auto', random_state=1038172918),\n",
       " DecisionTreeClassifier(max_features='auto', random_state=1709207404),\n",
       " DecisionTreeClassifier(max_features='auto', random_state=964340974),\n",
       " DecisionTreeClassifier(max_features='auto', random_state=1648385211),\n",
       " DecisionTreeClassifier(max_features='auto', random_state=552975973),\n",
       " DecisionTreeClassifier(max_features='auto', random_state=1256342111),\n",
       " DecisionTreeClassifier(max_features='auto', random_state=455629549),\n",
       " DecisionTreeClassifier(max_features='auto', random_state=1918516121),\n",
       " DecisionTreeClassifier(max_features='auto', random_state=1363644392),\n",
       " DecisionTreeClassifier(max_features='auto', random_state=861009869),\n",
       " DecisionTreeClassifier(max_features='auto', random_state=233344301),\n",
       " DecisionTreeClassifier(max_features='auto', random_state=1369967480),\n",
       " DecisionTreeClassifier(max_features='auto', random_state=1888485282),\n",
       " DecisionTreeClassifier(max_features='auto', random_state=293311050),\n",
       " DecisionTreeClassifier(max_features='auto', random_state=1311761558),\n",
       " DecisionTreeClassifier(max_features='auto', random_state=1661943199),\n",
       " DecisionTreeClassifier(max_features='auto', random_state=1177507575),\n",
       " DecisionTreeClassifier(max_features='auto', random_state=1128710169),\n",
       " DecisionTreeClassifier(max_features='auto', random_state=1551361262),\n",
       " DecisionTreeClassifier(max_features='auto', random_state=386900877),\n",
       " DecisionTreeClassifier(max_features='auto', random_state=182429474),\n",
       " DecisionTreeClassifier(max_features='auto', random_state=79881784),\n",
       " DecisionTreeClassifier(max_features='auto', random_state=164057569),\n",
       " DecisionTreeClassifier(max_features='auto', random_state=2041071608),\n",
       " DecisionTreeClassifier(max_features='auto', random_state=1051100598),\n",
       " DecisionTreeClassifier(max_features='auto', random_state=1315676380),\n",
       " DecisionTreeClassifier(max_features='auto', random_state=244666170),\n",
       " DecisionTreeClassifier(max_features='auto', random_state=1511151911),\n",
       " DecisionTreeClassifier(max_features='auto', random_state=764058968),\n",
       " DecisionTreeClassifier(max_features='auto', random_state=1399321237),\n",
       " DecisionTreeClassifier(max_features='auto', random_state=758537474),\n",
       " DecisionTreeClassifier(max_features='auto', random_state=373482742),\n",
       " DecisionTreeClassifier(max_features='auto', random_state=1483851530),\n",
       " DecisionTreeClassifier(max_features='auto', random_state=234579593),\n",
       " DecisionTreeClassifier(max_features='auto', random_state=1203472821),\n",
       " DecisionTreeClassifier(max_features='auto', random_state=1817337580),\n",
       " DecisionTreeClassifier(max_features='auto', random_state=411334388),\n",
       " DecisionTreeClassifier(max_features='auto', random_state=1798994398),\n",
       " DecisionTreeClassifier(max_features='auto', random_state=1944421734),\n",
       " DecisionTreeClassifier(max_features='auto', random_state=724281297),\n",
       " DecisionTreeClassifier(max_features='auto', random_state=946623367),\n",
       " DecisionTreeClassifier(max_features='auto', random_state=314030813),\n",
       " DecisionTreeClassifier(max_features='auto', random_state=620933143),\n",
       " DecisionTreeClassifier(max_features='auto', random_state=863196232),\n",
       " DecisionTreeClassifier(max_features='auto', random_state=1860388941),\n",
       " DecisionTreeClassifier(max_features='auto', random_state=2093201508),\n",
       " DecisionTreeClassifier(max_features='auto', random_state=311346113),\n",
       " DecisionTreeClassifier(max_features='auto', random_state=1198948024),\n",
       " DecisionTreeClassifier(max_features='auto', random_state=706304519),\n",
       " DecisionTreeClassifier(max_features='auto', random_state=1649375780),\n",
       " DecisionTreeClassifier(max_features='auto', random_state=1764248883),\n",
       " DecisionTreeClassifier(max_features='auto', random_state=274536780),\n",
       " DecisionTreeClassifier(max_features='auto', random_state=1473761593),\n",
       " DecisionTreeClassifier(max_features='auto', random_state=1685260519),\n",
       " DecisionTreeClassifier(max_features='auto', random_state=1581041846),\n",
       " DecisionTreeClassifier(max_features='auto', random_state=1241727636),\n",
       " DecisionTreeClassifier(max_features='auto', random_state=403740250),\n",
       " DecisionTreeClassifier(max_features='auto', random_state=949052976),\n",
       " DecisionTreeClassifier(max_features='auto', random_state=1428744217),\n",
       " DecisionTreeClassifier(max_features='auto', random_state=2023895027),\n",
       " DecisionTreeClassifier(max_features='auto', random_state=1891538001),\n",
       " DecisionTreeClassifier(max_features='auto', random_state=816372972),\n",
       " DecisionTreeClassifier(max_features='auto', random_state=1164026904),\n",
       " DecisionTreeClassifier(max_features='auto', random_state=363996557),\n",
       " DecisionTreeClassifier(max_features='auto', random_state=1362002008),\n",
       " DecisionTreeClassifier(max_features='auto', random_state=1090895018),\n",
       " DecisionTreeClassifier(max_features='auto', random_state=1400773135),\n",
       " DecisionTreeClassifier(max_features='auto', random_state=920310741),\n",
       " DecisionTreeClassifier(max_features='auto', random_state=590855490),\n",
       " DecisionTreeClassifier(max_features='auto', random_state=179570328),\n",
       " DecisionTreeClassifier(max_features='auto', random_state=613352195),\n",
       " DecisionTreeClassifier(max_features='auto', random_state=2072225400),\n",
       " DecisionTreeClassifier(max_features='auto', random_state=1603281644),\n",
       " DecisionTreeClassifier(max_features='auto', random_state=1656175777),\n",
       " DecisionTreeClassifier(max_features='auto', random_state=317400060),\n",
       " DecisionTreeClassifier(max_features='auto', random_state=1675862673),\n",
       " DecisionTreeClassifier(max_features='auto', random_state=1330635396),\n",
       " DecisionTreeClassifier(max_features='auto', random_state=768870273),\n",
       " DecisionTreeClassifier(max_features='auto', random_state=1002480942),\n",
       " DecisionTreeClassifier(max_features='auto', random_state=1791343419),\n",
       " DecisionTreeClassifier(max_features='auto', random_state=1765512375),\n",
       " DecisionTreeClassifier(max_features='auto', random_state=878608383),\n",
       " DecisionTreeClassifier(max_features='auto', random_state=1227243556),\n",
       " DecisionTreeClassifier(max_features='auto', random_state=908351508),\n",
       " DecisionTreeClassifier(max_features='auto', random_state=689727208),\n",
       " DecisionTreeClassifier(max_features='auto', random_state=1043290479),\n",
       " DecisionTreeClassifier(max_features='auto', random_state=736074970),\n",
       " DecisionTreeClassifier(max_features='auto', random_state=2005069727),\n",
       " DecisionTreeClassifier(max_features='auto', random_state=831251739),\n",
       " DecisionTreeClassifier(max_features='auto', random_state=71344121),\n",
       " DecisionTreeClassifier(max_features='auto', random_state=696246723),\n",
       " DecisionTreeClassifier(max_features='auto', random_state=567229895),\n",
       " DecisionTreeClassifier(max_features='auto', random_state=912472265),\n",
       " DecisionTreeClassifier(max_features='auto', random_state=1728020439),\n",
       " DecisionTreeClassifier(max_features='auto', random_state=1043462164),\n",
       " DecisionTreeClassifier(max_features='auto', random_state=1208595028),\n",
       " DecisionTreeClassifier(max_features='auto', random_state=2132579357),\n",
       " DecisionTreeClassifier(max_features='auto', random_state=1814978365),\n",
       " DecisionTreeClassifier(max_features='auto', random_state=1565020945),\n",
       " DecisionTreeClassifier(max_features='auto', random_state=821382440),\n",
       " DecisionTreeClassifier(max_features='auto', random_state=803608358),\n",
       " DecisionTreeClassifier(max_features='auto', random_state=1897165253),\n",
       " DecisionTreeClassifier(max_features='auto', random_state=983776896),\n",
       " DecisionTreeClassifier(max_features='auto', random_state=735028607),\n",
       " DecisionTreeClassifier(max_features='auto', random_state=1683323109),\n",
       " DecisionTreeClassifier(max_features='auto', random_state=2077771392),\n",
       " DecisionTreeClassifier(max_features='auto', random_state=1672732728),\n",
       " DecisionTreeClassifier(max_features='auto', random_state=344429231),\n",
       " DecisionTreeClassifier(max_features='auto', random_state=705751690),\n",
       " DecisionTreeClassifier(max_features='auto', random_state=1712758910),\n",
       " DecisionTreeClassifier(max_features='auto', random_state=505673613)]"
      ]
     },
     "execution_count": 65,
     "metadata": {},
     "output_type": "execute_result"
    }
   ],
   "source": [
    "# access all the fitted trees\n",
    "random_forest.estimators_"
   ]
  },
  {
   "cell_type": "code",
   "execution_count": 66,
   "metadata": {},
   "outputs": [
    {
     "data": {
      "text/plain": [
       "400"
      ]
     },
     "execution_count": 66,
     "metadata": {},
     "output_type": "execute_result"
    }
   ],
   "source": [
    "len(random_forest.estimators_)"
   ]
  },
  {
   "cell_type": "code",
   "execution_count": 67,
   "metadata": {},
   "outputs": [
    {
     "name": "stdout",
     "output_type": "stream",
     "text": [
      "Confusion matrix, without normalization\n",
      "[[11602     0]\n",
      " [    0   733]]\n"
     ]
    },
    {
     "data": {
      "image/png": "[encoded data removed]",
      "text/plain": [
       "<Figure size 432x288 with 2 Axes>"
      ]
     },
     "metadata": {
      "needs_background": "light"
     },
     "output_type": "display_data"
    }
   ],
   "source": [
    "# evaluate confusion matrix on TRAIN SET\n",
    "\n",
    "from sklearn.metrics import confusion_matrix\n",
    "from sklearn.utils.multiclass import unique_labels\n",
    "\n",
    "def plot_confusion_matrix(y_true, y_pred,\n",
    "                          normalize=False,\n",
    "                          title=None,\n",
    "                          cmap=plt.cm.Blues):\n",
    "    \"\"\"\n",
    "    This function prints and plots the confusion matrix.\n",
    "    Normalization can be applied by setting `normalize=True`.\n",
    "    \"\"\"\n",
    "    if not title:\n",
    "        if normalize:\n",
    "            title = 'Normalized confusion matrix'\n",
    "        else:\n",
    "            title = 'Confusion matrix, without normalization'\n",
    "\n",
    "    # Compute confusion matrix\n",
    "    cm = confusion_matrix(y_true, y_pred)\n",
    "    # Only use the labels that appear in the data\n",
    "    classes = ['0', '1']\n",
    "    if normalize:\n",
    "        cm = cm.astype('float') / cm.sum(axis=1)[:, np.newaxis]\n",
    "        print(\"Normalized confusion matrix\")\n",
    "    else:\n",
    "        print('Confusion matrix, without normalization')\n",
    "\n",
    "    print(cm)\n",
    "\n",
    "    fig, ax = plt.subplots()\n",
    "    im = ax.imshow(cm, interpolation='nearest', cmap=cmap)\n",
    "    ax.figure.colorbar(im, ax=ax)\n",
    "    # We want to show all ticks...\n",
    "    ax.set(xticks=np.arange(cm.shape[1]),\n",
    "           yticks=np.arange(cm.shape[0]),\n",
    "           # ... and label them with the respective list entries\n",
    "           xticklabels=classes, yticklabels=classes,\n",
    "           title=title,\n",
    "           ylabel='True label',\n",
    "           xlabel='Predicted label')\n",
    "\n",
    "    # Rotate the tick labels and set their alignment.\n",
    "    plt.setp(ax.get_xticklabels(), rotation=45, ha=\"right\",\n",
    "             rotation_mode=\"anchor\")\n",
    "\n",
    "    # Loop over data dimensions and create text annotations.\n",
    "    fmt = '.2f' if normalize else 'd'\n",
    "    thresh = cm.max() / 2.\n",
    "    for i in range(cm.shape[0]):\n",
    "        for j in range(cm.shape[1]):\n",
    "            ax.text(j, i, format(cm[i, j], fmt),\n",
    "                    ha=\"center\", va=\"center\",\n",
    "                    color=\"white\" if cm[i, j] > thresh else \"black\")\n",
    "    fig.tight_layout()\n",
    "    return ax\n",
    "\n",
    "\n",
    "np.set_printoptions(precision=2)\n",
    "\n",
    "# Plot non-normalized confusion matrix\n",
    "plot_confusion_matrix(y_train, y_train_predicted)\n",
    "plt.show()"
   ]
  },
  {
   "cell_type": "markdown",
   "metadata": {},
   "source": [
    "Bad performance on train set - overfitting, that is why we get 'perfect' results."
   ]
  },
  {
   "cell_type": "code",
   "execution_count": 68,
   "metadata": {},
   "outputs": [
    {
     "name": "stdout",
     "output_type": "stream",
     "text": [
      "              precision    recall  f1-score   support\n",
      "\n",
      "           0       1.00      1.00      1.00     11602\n",
      "           1       1.00      1.00      1.00       733\n",
      "\n",
      "    accuracy                           1.00     12335\n",
      "   macro avg       1.00      1.00      1.00     12335\n",
      "weighted avg       1.00      1.00      1.00     12335\n",
      "\n"
     ]
    }
   ],
   "source": [
    "# evaluate precision, recall, F1-score on train set\n",
    "from sklearn.metrics import classification_report\n",
    "\n",
    "print(classification_report(y_train, y_train_predicted))"
   ]
  },
  {
   "cell_type": "code",
   "execution_count": 69,
   "metadata": {},
   "outputs": [
    {
     "name": "stdout",
     "output_type": "stream",
     "text": [
      "Confusion matrix, without normalization\n",
      "[[2893    1]\n",
      " [ 189    1]]\n"
     ]
    },
    {
     "data": {
      "image/png": "[encoded data removed]",
      "text/plain": [
       "<Figure size 432x288 with 2 Axes>"
      ]
     },
     "metadata": {
      "needs_background": "light"
     },
     "output_type": "display_data"
    },
    {
     "name": "stdout",
     "output_type": "stream",
     "text": [
      "              precision    recall  f1-score   support\n",
      "\n",
      "           0       0.94      1.00      0.97      2894\n",
      "           1       0.50      0.01      0.01       190\n",
      "\n",
      "    accuracy                           0.94      3084\n",
      "   macro avg       0.72      0.50      0.49      3084\n",
      "weighted avg       0.91      0.94      0.91      3084\n",
      "\n"
     ]
    }
   ],
   "source": [
    "# evaluate performance on test set\n",
    "y_test_predicted = random_forest.predict(X_test)\n",
    "y_test_predicted_prob = random_forest.predict_proba(X_test)[:,1]\n",
    "\n",
    "plot_confusion_matrix(y_test, y_test_predicted)\n",
    "plt.show()\n",
    "\n",
    "print(classification_report(y_test, y_test_predicted))\n",
    "\n"
   ]
  },
  {
   "cell_type": "code",
   "execution_count": 70,
   "metadata": {},
   "outputs": [
    {
     "name": "stdout",
     "output_type": "stream",
     "text": [
      "Stats\n",
      "Accuracy: 0.9383916990920882\n",
      "balanced_accuracy: 0.5024588076965045\n",
      "brier_score_loss: 0.061608300907911806\n",
      "f1_score: 0.010416666666666666\n",
      "recall_score: 0.005263157894736842\n",
      "precision_score: 0.5\n",
      "roc_auc_score: 0.5024588076965045\n",
      "True Negatives: 2893\n",
      "False Postives: 1\n",
      "False Negatives: 189\n",
      "True Positive: 1\n",
      "Recall: 0.005263157894736842\n",
      "Precision: 0.5\n",
      "Prevalence: 0.061608300907911806\n"
     ]
    }
   ],
   "source": [
    "y_pred_gini = random_forest.predict(X_test)\n",
    "\n",
    "print('Stats')\n",
    "print(\"Accuracy:\",metrics.accuracy_score(y_test, y_pred_gini))\n",
    "print(\"balanced_accuracy:\",metrics.balanced_accuracy_score(y_test, y_pred_gini))\n",
    "print(\"brier_score_loss:\",metrics.brier_score_loss(y_test, y_pred_gini))\n",
    "print(\"f1_score:\",metrics.f1_score(y_test,y_pred_gini))\n",
    "print(\"recall_score:\",metrics.recall_score(y_test, y_pred_gini))\n",
    "print(\"precision_score:\",metrics.precision_score(y_test, y_pred_gini))\n",
    "print(\"roc_auc_score:\",metrics.roc_auc_score(y_test, y_pred_gini))\n",
    "\n",
    "\n",
    "\n",
    "precision, recall, thresholds = metrics.precision_recall_curve(y_test, y_pred_gini)\n",
    "\n",
    "#this code plots the confusion matrix of our niave implementation of LOGISTIC REGRESSION\n",
    "\n",
    "\n",
    "tn, fp, fn, tp = metrics.confusion_matrix(y_test, y_pred_gini).ravel()\n",
    "\n",
    "\n",
    "\n",
    "print('True Negatives:', tn)\n",
    "print('False Postives:', fp)\n",
    "print('False Negatives:', fn)\n",
    "print('True Positive:', tp)\n",
    "print('Recall:', tp/(fn+tp))\n",
    "print('Precision:', tp/(fp+tp))\n",
    "print('Prevalence:', (fn+tp)/(tn+fp+fn+tp))"
   ]
  },
  {
   "cell_type": "markdown",
   "metadata": {},
   "source": [
    "# FEATURE IMPORTANCE DECISION TREE VS RANDOM FOREST"
   ]
  },
  {
   "cell_type": "code",
   "execution_count": 71,
   "metadata": {},
   "outputs": [
    {
     "data": {
      "image/png": "[encoded data removed]",
      "text/plain": [
       "<Figure size 1080x1080 with 2 Axes>"
      ]
     },
     "metadata": {
      "needs_background": "light"
     },
     "output_type": "display_data"
    }
   ],
   "source": [
    "nrows = 1\n",
    "ncols = 2\n",
    "fig, axes = plt.subplots(nrows = nrows, ncols = ncols, sharex=\"all\", figsize=(15,15))\n",
    "\n",
    "names_classifiers = [(\"Decision Tree\",decision_tree),(\"RandomForest\",random_forest)]\n",
    "\n",
    "nclassifier = 0\n",
    "for col in range(ncols):\n",
    "    name = names_classifiers[nclassifier][0]\n",
    "    classifier = names_classifiers[nclassifier][1]\n",
    "    indices = np.argsort(classifier.feature_importances_)[::-1][:40]\n",
    "    g = sns.barplot(y=X_train.columns[indices][:40],x = classifier.feature_importances_[indices][:40] , orient='h',ax=axes[col])\n",
    "    x = g.set_xlabel(\"Relative importance\",fontsize=12)\n",
    "    y = g.set_ylabel(\"Features\",fontsize=12)\n",
    "    tick = g.tick_params(labelsize=9)\n",
    "    t = g.set_title(name + \" feature importance\")\n",
    "    nclassifier += 1"
   ]
  },
  {
   "cell_type": "markdown",
   "metadata": {},
   "source": [
    "# LOGISTIC REGRESSION"
   ]
  },
  {
   "cell_type": "code",
   "execution_count": 72,
   "metadata": {},
   "outputs": [
    {
     "name": "stdout",
     "output_type": "stream",
     "text": [
      "LogisticRegression accuracy score (train) is 94.07\n",
      "LogisticRegression accuracy score (test) is 93.84\n"
     ]
    }
   ],
   "source": [
    "\n",
    "logreg = LogisticRegression(solver='liblinear')\n",
    "logreg.fit(X_train,y_train)\n",
    "y_pred = logreg.predict(X_test).astype(int)\n",
    "\n",
    "\n",
    "acc_train = round(logreg.score(X_train, y_train) * 100, 2)\n",
    "print(\"LogisticRegression accuracy score (train) is {}\".format(acc_train))\n",
    "print (\"LogisticRegression accuracy score (test) is {}\".format(round(accuracy_score(y_test,y_pred)*100,2)))\n"
   ]
  },
  {
   "cell_type": "code",
   "execution_count": 73,
   "metadata": {},
   "outputs": [
    {
     "data": {
      "text/html": [
       "<div>\n",
       "<style scoped>\n",
       "    .dataframe tbody tr th:only-of-type {\n",
       "        vertical-align: middle;\n",
       "    }\n",
       "\n",
       "    .dataframe tbody tr th {\n",
       "        vertical-align: top;\n",
       "    }\n",
       "\n",
       "    .dataframe thead th {\n",
       "        text-align: right;\n",
       "    }\n",
       "</style>\n",
       "<table border=\"1\" class=\"dataframe\">\n",
       "  <thead>\n",
       "    <tr style=\"text-align: right;\">\n",
       "      <th></th>\n",
       "      <th>Feature</th>\n",
       "      <th>Coefficient</th>\n",
       "    </tr>\n",
       "  </thead>\n",
       "  <tbody>\n",
       "    <tr>\n",
       "      <th>5</th>\n",
       "      <td>Deductible</td>\n",
       "      <td>11.358343</td>\n",
       "    </tr>\n",
       "    <tr>\n",
       "      <th>69</th>\n",
       "      <td>VehicleCategory_Utility</td>\n",
       "      <td>1.752496</td>\n",
       "    </tr>\n",
       "    <tr>\n",
       "      <th>71</th>\n",
       "      <td>MonthClaimed_Dec</td>\n",
       "      <td>1.685360</td>\n",
       "    </tr>\n",
       "    <tr>\n",
       "      <th>48</th>\n",
       "      <td>VehiclePrice_less than 20000</td>\n",
       "      <td>1.471117</td>\n",
       "    </tr>\n",
       "    <tr>\n",
       "      <th>47</th>\n",
       "      <td>VehiclePrice_60000 to 69000</td>\n",
       "      <td>1.450275</td>\n",
       "    </tr>\n",
       "    <tr>\n",
       "      <th>...</th>\n",
       "      <td>...</td>\n",
       "      <td>...</td>\n",
       "    </tr>\n",
       "    <tr>\n",
       "      <th>79</th>\n",
       "      <td>MonthClaimed_Oct</td>\n",
       "      <td>0.456432</td>\n",
       "    </tr>\n",
       "    <tr>\n",
       "      <th>31</th>\n",
       "      <td>Days_Policy_Accident_none</td>\n",
       "      <td>0.442656</td>\n",
       "    </tr>\n",
       "    <tr>\n",
       "      <th>30</th>\n",
       "      <td>Days_Policy_Accident_more than 30</td>\n",
       "      <td>0.395013</td>\n",
       "    </tr>\n",
       "    <tr>\n",
       "      <th>28</th>\n",
       "      <td>Days_Policy_Accident_15 to 30</td>\n",
       "      <td>0.350022</td>\n",
       "    </tr>\n",
       "    <tr>\n",
       "      <th>87</th>\n",
       "      <td>MaritalStatus_Married</td>\n",
       "      <td>0.029173</td>\n",
       "    </tr>\n",
       "  </tbody>\n",
       "</table>\n",
       "<p>90 rows × 2 columns</p>\n",
       "</div>"
      ],
      "text/plain": [
       "                              Feature  Coefficient\n",
       "5                          Deductible    11.358343\n",
       "69            VehicleCategory_Utility     1.752496\n",
       "71                   MonthClaimed_Dec     1.685360\n",
       "48       VehiclePrice_less than 20000     1.471117\n",
       "47        VehiclePrice_60000 to 69000     1.450275\n",
       "..                                ...          ...\n",
       "79                   MonthClaimed_Oct     0.456432\n",
       "31          Days_Policy_Accident_none     0.442656\n",
       "30  Days_Policy_Accident_more than 30     0.395013\n",
       "28      Days_Policy_Accident_15 to 30     0.350022\n",
       "87              MaritalStatus_Married     0.029173\n",
       "\n",
       "[90 rows x 2 columns]"
      ]
     },
     "execution_count": 73,
     "metadata": {},
     "output_type": "execute_result"
    }
   ],
   "source": [
    "coeff_df = pd.DataFrame(X_train.columns.delete(0))\n",
    "coeff_df.columns = ['Feature']\n",
    "coeff_df[\"Coefficient\"] = pd.Series(np.exp(logreg.coef_[0]))\n",
    "coeff_df.sort_values(by='Coefficient', ascending=False)"
   ]
  },
  {
   "cell_type": "code",
   "execution_count": 74,
   "metadata": {},
   "outputs": [
    {
     "name": "stdout",
     "output_type": "stream",
     "text": [
      "Confusion matrix, without normalization\n",
      "[[2894    0]\n",
      " [ 190    0]]\n"
     ]
    },
    {
     "data": {
      "image/png": "[encoded data removed]",
      "text/plain": [
       "<Figure size 432x288 with 2 Axes>"
      ]
     },
     "metadata": {
      "needs_background": "light"
     },
     "output_type": "display_data"
    },
    {
     "name": "stdout",
     "output_type": "stream",
     "text": [
      "              precision    recall  f1-score   support\n",
      "\n",
      "           0       0.94      1.00      0.97      2894\n",
      "           1       0.00      0.00      0.00       190\n",
      "\n",
      "    accuracy                           0.94      3084\n",
      "   macro avg       0.47      0.50      0.48      3084\n",
      "weighted avg       0.88      0.94      0.91      3084\n",
      "\n"
     ]
    }
   ],
   "source": [
    "# evaluate performance on test set\n",
    "y_test_predicted = logreg.predict(X_test)\n",
    "y_test_predicted_prob = logreg.predict_proba(X_test)[:,1]\n",
    "\n",
    "plot_confusion_matrix(y_test, y_test_predicted)\n",
    "plt.show()\n",
    "\n",
    "print(classification_report(y_test, y_test_predicted))\n",
    "\n"
   ]
  },
  {
   "cell_type": "code",
   "execution_count": 75,
   "metadata": {},
   "outputs": [
    {
     "name": "stdout",
     "output_type": "stream",
     "text": [
      "Stats\n",
      "Accuracy: 0.9383916990920882\n",
      "balanced_accuracy: 0.5\n",
      "brier_score_loss: 0.061608300907911806\n",
      "f1_score: 0.0\n",
      "recall_score: 0.0\n",
      "precision_score: 0.0\n",
      "roc_auc_score: 0.5\n",
      "True Negatives: 2894\n",
      "False Postives: 0\n",
      "False Negatives: 190\n",
      "True Positive: 0\n",
      "Recall: 0.0\n",
      "Precision: nan\n",
      "Prevalence: 0.061608300907911806\n"
     ]
    }
   ],
   "source": [
    "y_pred_gini = logreg.predict(X_test)\n",
    "\n",
    "print('Stats')\n",
    "print(\"Accuracy:\",metrics.accuracy_score(y_test, y_pred_gini))\n",
    "print(\"balanced_accuracy:\",metrics.balanced_accuracy_score(y_test, y_pred_gini))\n",
    "print(\"brier_score_loss:\",metrics.brier_score_loss(y_test, y_pred_gini))\n",
    "print(\"f1_score:\",metrics.f1_score(y_test,y_pred_gini))\n",
    "print(\"recall_score:\",metrics.recall_score(y_test, y_pred_gini))\n",
    "print(\"precision_score:\",metrics.precision_score(y_test, y_pred_gini))\n",
    "print(\"roc_auc_score:\",metrics.roc_auc_score(y_test, y_pred_gini))\n",
    "\n",
    "\n",
    "\n",
    "precision, recall, thresholds = metrics.precision_recall_curve(y_test, y_pred_gini)\n",
    "\n",
    "#this code plots the confusion matrix of our niave implementation of LOGISTIC REGRESSION\n",
    "\n",
    "\n",
    "tn, fp, fn, tp = metrics.confusion_matrix(y_test, y_pred_gini).ravel()\n",
    "\n",
    "\n",
    "\n",
    "print('True Negatives:', tn)\n",
    "print('False Postives:', fp)\n",
    "print('False Negatives:', fn)\n",
    "print('True Positive:', tp)\n",
    "print('Recall:', tp/(fn+tp))\n",
    "print('Precision:', tp/(fp+tp))\n",
    "print('Prevalence:', (fn+tp)/(tn+fp+fn+tp))"
   ]
  },
  {
   "cell_type": "code",
   "execution_count": 76,
   "metadata": {},
   "outputs": [
    {
     "name": "stdout",
     "output_type": "stream",
     "text": [
      "LogisticRegression AUC is 0.80456662\n"
     ]
    },
    {
     "data": {
      "image/png": "[encoded data removed]",
      "text/plain": [
       "<Figure size 720x648 with 1 Axes>"
      ]
     },
     "metadata": {
      "needs_background": "light"
     },
     "output_type": "display_data"
    }
   ],
   "source": [
    "#The ROC curve\n",
    "from sklearn.metrics import roc_curve, auc\n",
    "y_score = logreg.decision_function(X_test) \n",
    "FPR, TPR, THR = roc_curve(y_test, y_score) \n",
    "ROC_AUC = auc(FPR, TPR)\n",
    "print (logreg.__class__.__name__+\" AUC is %2.8f\" % ROC_AUC) \n",
    "\n",
    "p = plt.figure(figsize =[10,9])\n",
    "p = plt.plot(FPR, TPR, label= 'ROC curve(area = %0.2f)'%ROC_AUC, linewidth= 4)\n",
    "p = plt.plot([0,1],[0,1], 'k--', linewidth = 4)\n",
    "p = plt.xlim([0.0,1.0])\n",
    "p = plt.ylim([0.0,1.05])\n",
    "p = plt.xlabel('False Positive Rate', fontsize = 17)\n",
    "p = plt.ylabel('True Positive Rate', fontsize = 17)\n",
    "p = plt.title('ROC for Logistic Regression', fontsize= 17)\n",
    "plt.show()"
   ]
  },
  {
   "cell_type": "markdown",
   "metadata": {},
   "source": [
    "# GRADIENT BOOST"
   ]
  },
  {
   "cell_type": "code",
   "execution_count": 77,
   "metadata": {},
   "outputs": [
    {
     "name": "stdout",
     "output_type": "stream",
     "text": [
      "Gradient Booster Classifier Success Rate : 93.90%\n"
     ]
    },
    {
     "data": {
      "image/png": "[encoded data removed]",
      "text/plain": [
       "<Figure size 432x288 with 2 Axes>"
      ]
     },
     "metadata": {
      "needs_background": "light"
     },
     "output_type": "display_data"
    }
   ],
   "source": [
    "from sklearn.ensemble import GradientBoostingClassifier\n",
    "gbc=GradientBoostingClassifier()\n",
    "gbc.fit(X_train,y_train)\n",
    "p2=gbc.predict(X_test)\n",
    "s2=accuracy_score(y_test,p2)\n",
    "print(\"Gradient Booster Classifier Success Rate :\", \"{:.2f}%\".format(100*s2))\n",
    "metrics.plot_confusion_matrix(gbc, X_test, y_test)\n",
    "plt.show()"
   ]
  },
  {
   "cell_type": "code",
   "execution_count": 78,
   "metadata": {},
   "outputs": [
    {
     "name": "stdout",
     "output_type": "stream",
     "text": [
      "Stats\n",
      "Accuracy: 0.9390402075226978\n",
      "balanced_accuracy: 0.5052631578947369\n",
      "brier_score_loss: 0.0609597924773022\n",
      "f1_score: 0.020833333333333332\n",
      "recall_score: 0.010526315789473684\n",
      "precision_score: 1.0\n",
      "roc_auc_score: 0.5052631578947369\n",
      "True Negatives: 2894\n",
      "False Postives: 0\n",
      "False Negatives: 188\n",
      "True Positive: 2\n",
      "Recall: 0.010526315789473684\n",
      "Precision: 1.0\n",
      "Prevalence: 0.061608300907911806\n"
     ]
    }
   ],
   "source": [
    "y_pred_gini = gbc.predict(X_test)\n",
    "\n",
    "print('Stats')\n",
    "print(\"Accuracy:\",metrics.accuracy_score(y_test, y_pred_gini))\n",
    "print(\"balanced_accuracy:\",metrics.balanced_accuracy_score(y_test, y_pred_gini))\n",
    "print(\"brier_score_loss:\",metrics.brier_score_loss(y_test, y_pred_gini))\n",
    "print(\"f1_score:\",metrics.f1_score(y_test,y_pred_gini))\n",
    "print(\"recall_score:\",metrics.recall_score(y_test, y_pred_gini))\n",
    "print(\"precision_score:\",metrics.precision_score(y_test, y_pred_gini))\n",
    "print(\"roc_auc_score:\",metrics.roc_auc_score(y_test, y_pred_gini))\n",
    "\n",
    "\n",
    "\n",
    "precision, recall, thresholds = metrics.precision_recall_curve(y_test, y_pred_gini)\n",
    "\n",
    "#this code plots the confusion matrix of our niave implementation of LOGISTIC REGRESSION\n",
    "\n",
    "\n",
    "tn, fp, fn, tp = metrics.confusion_matrix(y_test, y_pred_gini).ravel()\n",
    "\n",
    "\n",
    "\n",
    "print('True Negatives:', tn)\n",
    "print('False Postives:', fp)\n",
    "print('False Negatives:', fn)\n",
    "print('True Positive:', tp)\n",
    "print('Recall:', tp/(fn+tp))\n",
    "print('Precision:', tp/(fp+tp))\n",
    "print('Prevalence:', (fn+tp)/(tn+fp+fn+tp))"
   ]
  },
  {
   "cell_type": "markdown",
   "metadata": {},
   "source": [
    "# COMPARING MODELS"
   ]
  },
  {
   "cell_type": "code",
   "execution_count": 79,
   "metadata": {},
   "outputs": [
    {
     "data": {
      "image/png": "[encoded data removed]",
      "text/plain": [
       "<Figure size 432x288 with 1 Axes>"
      ]
     },
     "metadata": {
      "needs_background": "light"
     },
     "output_type": "display_data"
    },
    {
     "data": {
      "image/png": "[encoded data removed]",
      "text/plain": [
       "<Figure size 432x288 with 1 Axes>"
      ]
     },
     "metadata": {
      "needs_background": "light"
     },
     "output_type": "display_data"
    },
    {
     "data": {
      "image/png": "[encoded data removed]",
      "text/plain": [
       "<Figure size 432x288 with 1 Axes>"
      ]
     },
     "metadata": {
      "needs_background": "light"
     },
     "output_type": "display_data"
    },
    {
     "data": {
      "image/png": "[encoded data removed]",
      "text/plain": [
       "<Figure size 432x288 with 1 Axes>"
      ]
     },
     "metadata": {
      "needs_background": "light"
     },
     "output_type": "display_data"
    }
   ],
   "source": [
    "#Model evaluation\n",
    "\n",
    "def plot_learning_curve(estimator, title, X, y, ylim=None, cv=None,\n",
    "                        n_jobs=-1, train_sizes=np.linspace(.1, 1.0, 5)):\n",
    "    \"\"\"Generate a simple plot of the test and training learning curve\"\"\"\n",
    "    plt.figure()\n",
    "    plt.title(title)\n",
    "    if ylim is not None:\n",
    "        plt.ylim(*ylim)\n",
    "    plt.xlabel(\"Training examples\")\n",
    "    plt.ylabel(\"Score\")\n",
    "    train_sizes, train_scores, test_scores = learning_curve(\n",
    "        estimator, X, y, cv=cv, n_jobs=n_jobs, train_sizes=train_sizes)\n",
    "    train_scores_mean = np.mean(train_scores, axis=1)\n",
    "    train_scores_std = np.std(train_scores, axis=1)\n",
    "    test_scores_mean = np.mean(test_scores, axis=1)\n",
    "    test_scores_std = np.std(test_scores, axis=1)\n",
    "    plt.grid()\n",
    "\n",
    "    \n",
    "    plt.fill_between(train_sizes, train_scores_mean - train_scores_std,\n",
    "                     train_scores_mean + train_scores_std, alpha=0.1,\n",
    "                     color=\"r\")\n",
    "    plt.fill_between(train_sizes, test_scores_mean - test_scores_std,\n",
    "                     test_scores_mean + test_scores_std, alpha=0.1, color=\"g\")\n",
    "    plt.plot(train_sizes, train_scores_mean, 'o-', color=\"r\",\n",
    "             label=\"Training score\")\n",
    "    plt.plot(train_sizes, test_scores_mean, 'o-', color=\"g\",\n",
    "             label=\"Cross-validation score\")\n",
    "\n",
    "    plt.legend(loc=\"best\")\n",
    "    return plt\n",
    "\n",
    "\n",
    "g = plot_learning_curve(decision_tree,\"Decision tree learning curves\",X_train,y_train,cv=10)\n",
    "g = plot_learning_curve(random_forest,\"Random Forest learning curves\",X_train,y_train,cv=10)\n",
    "g= plot_learning_curve(logreg, \"Logistic Regression learning curves\", X_train, y_train, cv=10)\n",
    "g= plot_learning_curve(gbc, \"GBC\", X_train, y_train,cv=10)"
   ]
  }
 ],
 "metadata": {
  "kernelspec": {
   "display_name": "Python 3",
   "language": "python",
   "name": "python3"
  },
  "language_info": {
   "codemirror_mode": {
    "name": "ipython",
    "version": 3
   },
   "file_extension": ".py",
   "mimetype": "text/x-python",
   "name": "python",
   "nbconvert_exporter": "python",
   "pygments_lexer": "ipython3",
   "version": "3.8.5"
  }
 },
 "nbformat": 4,
 "nbformat_minor": 4
}
